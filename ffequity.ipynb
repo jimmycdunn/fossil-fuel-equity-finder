{
 "cells": [
  {
   "cell_type": "markdown",
   "metadata": {},
   "source": [
    "# Fossil Fuel Equity Finder\n",
    "Note: Instructions on how to download and install Anaconda, scipy, and fuzzywuzzy will be included in the README.md file in the project directory.\n",
    "\n",
    "The goal of this Jupyter notebook is to provide a centralized, front end document where the user of the tool can run the analysis, explore aggregate level data, and see various visualizations.\n",
    "\n",
    "## Instructions\n",
    "This tool will provide you benchmark indicators on how many fossil fuel investments are embedded in your institution's investment portfolio.\n",
    "\n",
    "### Tool Scope\n",
    "This tool can assess dollars invested in fossil fuel extraction companies and allocate carbon reserves via a fair share analysis. This tool only works with the data you give it, for example, if you give it individual equity posisions, the tool will only assess fossil fuel equity within your individual equity portfolio. If you give it carbon reserve data, like from Fossil Free Indexes' Carbon Undergound 200, then the tool will only allocate carbon reserves to their respective investments, not the operational emissions of the companies.\n"
   ]
  },
  {
   "cell_type": "markdown",
   "metadata": {},
   "source": [
    "### Getting Started\n",
    "The following code cell containts a few import statements that will load in the packages for displaying tables and data visualizations in the notebook. It also contains a few general commands to the notebook on how to format these tables and visualizations. Go ahead and run it now. "
   ]
  },
  {
   "cell_type": "code",
   "execution_count": 1,
   "metadata": {
    "collapsed": true
   },
   "outputs": [],
   "source": [
    "# this code cell will print out sample dataframe tables so the user can know what the csv files should look like\n",
    "# with a focus on displaying proper column headers\n",
    "# numpy and pandas are fundamental data processing libraries for Python\n",
    "import numpy as np\n",
    "import pandas as pd\n",
    "\n",
    "# this line tells the notebook to display all numbers with 2 floating decimal places and commas separating thousands\n",
    "pd.options.display.float_format = '{:,.2f}'.format\n",
    "\n",
    "# matplotlib is a data visualization library for Python\n",
    "import matplotlib.pyplot as plt\n",
    "\n",
    "# these lines tell the notebook to show you the visualizations within the notebook using the \"Seaborn\" style\n",
    "# https://seaborn.pydata.org/\n",
    "%matplotlib inline\n",
    "plt.style.use('seaborn-notebook')\n",
    "plt.rcParams['figure.figsize'] = [12, 6]\n",
    "\n",
    "# this line will let the notebook show you images\n",
    "from IPython.display import Image"
   ]
  },
  {
   "cell_type": "markdown",
   "metadata": {},
   "source": [
    "### The Benchmark Object\n",
    "Now we're going to create a \"Benchmark\" Python object, which will be responsible for interfacing between us and the data. In order to do so successfully, you need to edit the below code cell to include __all__ of the years you want to analyze. For example, if you have all three required data files for 2014-2017, you will edit the below `years` variable to equal `[\"2014\", \"2015\", \"2016\", \"2017\"]`. Please note that the formatting of the list in brackets on the right side of the `=` next to `years` is very important:\n",
    "* Each year must be in YYYY format\n",
    "* Each year must be enclosed between open and closed `\"` \n",
    "* Each year must be separated by `,`\n",
    "* Note the last year in the list is not followed by a `,`"
   ]
  },
  {
   "cell_type": "code",
   "execution_count": 2,
   "metadata": {
    "collapsed": true
   },
   "outputs": [],
   "source": [
    "# modify the years in this list to reflect the entirety of your data and run this cell to store the values\n",
    "years = [\"2012\", \"2013\", \"2014\"] # edit this"
   ]
  },
  {
   "cell_type": "code",
   "execution_count": 3,
   "metadata": {},
   "outputs": [],
   "source": [
    "# this cell creates a Benchmark object that will perform the visualizations inline\n",
    "from ffequity.processors.benchmark import Benchmark\n",
    "benchmark = Benchmark(years)"
   ]
  },
  {
   "cell_type": "markdown",
   "metadata": {},
   "source": [
    "### Data Folders\n",
    "The data folders are as follows:\n",
    "* `carbon_data` is the folder where you'll be cleaning and saving your carbon reserve data that you acquire\n",
    "* `equity_data` is the folder where you'll be cleaning and saving your equity positions data that you acquire\n",
    "* `financial_data` is the folder where you'll be gathering market capitalization data for the carbon companies that are listed\n",
    "\n",
    "### Data Cleaning and Data Standards\n",
    "You will be cleaning and inserting data into these folders according to the following standards.\n",
    "\n",
    "__IMPORTANT NOTE__: When you are formatting your data values within each sheet, make sure that there are no spaces at the end of company or stock names, as sneaky spaces at the end of a data value will break the tool!!!"
   ]
  },
  {
   "cell_type": "markdown",
   "metadata": {},
   "source": [
    "#### carbon_data\n",
    "For .csv files stored in the `carbon_data` folder, please format them with four columns titled and data typed as follows:\n",
    "* __Company(Company)__ containing data with letters and numbers representing the names of fossil fuel companies\n",
    "* __Coal(GtCO2)__ containing data with with numbers only representing the estimated carbon emissions associated with fossil fuel companies' listed coal reserves in gigatons\n",
    "* __Oil(GtCO2)__ containing data with numbers only representing the estimated carbon emissions associated with fossil fuel companies' listed oil reserves in gigatons\n",
    "* __Gas(GtCO2)__ containing data with numbers only representing the estimated carbon emissions associated with fossil fuel companies' listed natural gas reserves in gigatons\n",
    "\n",
    "Please keep each year's worth of carbon data in a separate .csv file and name them according to the following naming convention:\n",
    "* `YYYYFilename.csv`\n",
    "* Note: The only requirement for carbon_data filenames is to lead each name with a four digit prefix representing the year that the data file examines, not the year you acquired the data."
   ]
  },
  {
   "cell_type": "code",
   "execution_count": 4,
   "metadata": {},
   "outputs": [
    {
     "data": {
      "text/html": [
       "<div>\n",
       "<style>\n",
       "    .dataframe thead tr:only-child th {\n",
       "        text-align: right;\n",
       "    }\n",
       "\n",
       "    .dataframe thead th {\n",
       "        text-align: left;\n",
       "    }\n",
       "\n",
       "    .dataframe tbody tr th {\n",
       "        vertical-align: top;\n",
       "    }\n",
       "</style>\n",
       "<table border=\"1\" class=\"dataframe\">\n",
       "  <thead>\n",
       "    <tr style=\"text-align: right;\">\n",
       "      <th></th>\n",
       "      <th>Company(Company)</th>\n",
       "      <th>Coal(GtCO2)</th>\n",
       "      <th>Oil(GtCO2)</th>\n",
       "      <th>Gas(GtCO2)</th>\n",
       "    </tr>\n",
       "  </thead>\n",
       "  <tbody>\n",
       "    <tr>\n",
       "      <th>0</th>\n",
       "      <td>Best Coal</td>\n",
       "      <td>10.00</td>\n",
       "      <td>0.00</td>\n",
       "      <td>0.00</td>\n",
       "    </tr>\n",
       "    <tr>\n",
       "      <th>1</th>\n",
       "      <td>Some Gas</td>\n",
       "      <td>0.00</td>\n",
       "      <td>5.00</td>\n",
       "      <td>2.50</td>\n",
       "    </tr>\n",
       "    <tr>\n",
       "      <th>2</th>\n",
       "      <td>More Oil</td>\n",
       "      <td>0.00</td>\n",
       "      <td>10.00</td>\n",
       "      <td>2.50</td>\n",
       "    </tr>\n",
       "    <tr>\n",
       "      <th>3</th>\n",
       "      <td>Better Coal</td>\n",
       "      <td>20.00</td>\n",
       "      <td>0.00</td>\n",
       "      <td>0.00</td>\n",
       "    </tr>\n",
       "    <tr>\n",
       "      <th>4</th>\n",
       "      <td>Decent Coal</td>\n",
       "      <td>5.00</td>\n",
       "      <td>0.00</td>\n",
       "      <td>0.00</td>\n",
       "    </tr>\n",
       "  </tbody>\n",
       "</table>\n",
       "</div>"
      ],
      "text/plain": [
       "  Company(Company)  Coal(GtCO2)  Oil(GtCO2)  Gas(GtCO2)\n",
       "0        Best Coal        10.00        0.00        0.00\n",
       "1         Some Gas         0.00        5.00        2.50\n",
       "2         More Oil         0.00       10.00        2.50\n",
       "3      Better Coal        20.00        0.00        0.00\n",
       "4      Decent Coal         5.00        0.00        0.00"
      ]
     },
     "metadata": {},
     "output_type": "display_data"
    }
   ],
   "source": [
    "# run this cell to have Benchmark show you how to format your carbon data files\n",
    "# ignore the running numbers on the far left, the first column should be in your first column\n",
    "benchmark.show_sample_tables(\"Carbon\")"
   ]
  },
  {
   "cell_type": "markdown",
   "metadata": {},
   "source": [
    "#### equity_data\n",
    "For .csv files stored in the `equity_data` folder, please format them with two columns titled and data typed as follows:\n",
    "* __Stocks__ containing data with letters and numbers representing the names of individual companies you are invested in\n",
    "* __EndingMarketValue__ containing data with with numbers only representing the USD value of all shares held in each individual company\n",
    "\n",
    "Please keep each year's worth of equity data in a separate .csv file and name them according to the following naming convention:\n",
    "* `YYYYFilename.csv`\n",
    "* Note: The only requirement for equity_data filenames is to lead each name with a four digit prefix representing the year that the data file examines, not the year you acquired the data."
   ]
  },
  {
   "cell_type": "code",
   "execution_count": 5,
   "metadata": {},
   "outputs": [
    {
     "data": {
      "text/html": [
       "<div>\n",
       "<style>\n",
       "    .dataframe thead tr:only-child th {\n",
       "        text-align: right;\n",
       "    }\n",
       "\n",
       "    .dataframe thead th {\n",
       "        text-align: left;\n",
       "    }\n",
       "\n",
       "    .dataframe tbody tr th {\n",
       "        vertical-align: top;\n",
       "    }\n",
       "</style>\n",
       "<table border=\"1\" class=\"dataframe\">\n",
       "  <thead>\n",
       "    <tr style=\"text-align: right;\">\n",
       "      <th></th>\n",
       "      <th>Stocks</th>\n",
       "      <th>EndingMarketValue</th>\n",
       "    </tr>\n",
       "  </thead>\n",
       "  <tbody>\n",
       "    <tr>\n",
       "      <th>0</th>\n",
       "      <td>SM GAS CLASS A</td>\n",
       "      <td>54,987,651.00</td>\n",
       "    </tr>\n",
       "    <tr>\n",
       "      <th>1</th>\n",
       "      <td>MORE OIL</td>\n",
       "      <td>13,654,977.00</td>\n",
       "    </tr>\n",
       "    <tr>\n",
       "      <th>2</th>\n",
       "      <td>DCT COAL OPTIONS</td>\n",
       "      <td>546,879,852.00</td>\n",
       "    </tr>\n",
       "    <tr>\n",
       "      <th>3</th>\n",
       "      <td>BST COAL</td>\n",
       "      <td>1,124,568.00</td>\n",
       "    </tr>\n",
       "    <tr>\n",
       "      <th>4</th>\n",
       "      <td>CLOTHES R US</td>\n",
       "      <td>1,549,865.00</td>\n",
       "    </tr>\n",
       "  </tbody>\n",
       "</table>\n",
       "</div>"
      ],
      "text/plain": [
       "             Stocks  EndingMarketValue\n",
       "0    SM GAS CLASS A      54,987,651.00\n",
       "1          MORE OIL      13,654,977.00\n",
       "2  DCT COAL OPTIONS     546,879,852.00\n",
       "3          BST COAL       1,124,568.00\n",
       "4      CLOTHES R US       1,549,865.00"
      ]
     },
     "metadata": {},
     "output_type": "display_data"
    }
   ],
   "source": [
    "# run this cell to have Benchmark show you how to format your carbon data files\n",
    "benchmark.show_sample_tables(\"Equity\")"
   ]
  },
  {
   "cell_type": "markdown",
   "metadata": {},
   "source": [
    "#### financial_data\n",
    "__IMPORTANT__: This step will take the most time to perform in the entire tool because it requires manual data entry. Unfortunately, there currently does not exist an open-source platform that will provide historical or present-day market capitlization values for domestic and international equity. If you are aware of such a free service, particularly if it is in an API format, please email me so I can integrate it into the tool and make this step much easier!\n",
    "\n",
    "For .csv files stored in the `financial_data` folder, please format them with two columns titled and data typed as follows:\n",
    "* __Company__ containing data with letters and numbers representing the names of fossil fuel companies. __These company names should exactly match the Company(Company) data values in your carbon_data files!__\n",
    "* __MarketCap(B)__ containing data with with numbers only representing the market capitalization value of each company in billions of USD. If the company is valued in the millions or trillions, please convert to billions for this field.\n",
    "\n",
    "Please keep each year's worth of equity data in a separate .csv file and name them according to the following naming convention:\n",
    "* `YYYYFilename.csv`\n",
    "* Note: The only requirement for financial_data filenames is to lead each name with a four digit prefix representing the year that the data file examines, not the year you acquired the data."
   ]
  },
  {
   "cell_type": "code",
   "execution_count": 6,
   "metadata": {},
   "outputs": [
    {
     "data": {
      "text/html": [
       "<div>\n",
       "<style>\n",
       "    .dataframe thead tr:only-child th {\n",
       "        text-align: right;\n",
       "    }\n",
       "\n",
       "    .dataframe thead th {\n",
       "        text-align: left;\n",
       "    }\n",
       "\n",
       "    .dataframe tbody tr th {\n",
       "        vertical-align: top;\n",
       "    }\n",
       "</style>\n",
       "<table border=\"1\" class=\"dataframe\">\n",
       "  <thead>\n",
       "    <tr style=\"text-align: right;\">\n",
       "      <th></th>\n",
       "      <th>Company</th>\n",
       "      <th>MarketCap(B)</th>\n",
       "    </tr>\n",
       "  </thead>\n",
       "  <tbody>\n",
       "    <tr>\n",
       "      <th>0</th>\n",
       "      <td>Best Coal</td>\n",
       "      <td>25.80</td>\n",
       "    </tr>\n",
       "    <tr>\n",
       "      <th>1</th>\n",
       "      <td>Some Gas</td>\n",
       "      <td>50.20</td>\n",
       "    </tr>\n",
       "    <tr>\n",
       "      <th>2</th>\n",
       "      <td>More Oil</td>\n",
       "      <td>44.30</td>\n",
       "    </tr>\n",
       "    <tr>\n",
       "      <th>3</th>\n",
       "      <td>Better Coal</td>\n",
       "      <td>10.00</td>\n",
       "    </tr>\n",
       "    <tr>\n",
       "      <th>4</th>\n",
       "      <td>Decent Coal</td>\n",
       "      <td>0.50</td>\n",
       "    </tr>\n",
       "  </tbody>\n",
       "</table>\n",
       "</div>"
      ],
      "text/plain": [
       "       Company  MarketCap(B)\n",
       "0    Best Coal         25.80\n",
       "1     Some Gas         50.20\n",
       "2     More Oil         44.30\n",
       "3  Better Coal         10.00\n",
       "4  Decent Coal          0.50"
      ]
     },
     "metadata": {},
     "output_type": "display_data"
    }
   ],
   "source": [
    "# this cell outputs a sample table showing how column names and values should be formatted in financial_data\n",
    "benchmark.show_sample_tables(\"Financial\")"
   ]
  },
  {
   "cell_type": "markdown",
   "metadata": {},
   "source": [
    "### Finding Market Cap Values Online\n",
    "You will need to do your own research on market capitalization values. You can go to multiple websites to try and find the present day market cap value of your companies. This tool was built with the understanding that you may not have 3 hours to find all of the market cap values for your target fossil fuel companies. This tool will only match and assess fossil fuel equity for each company that has a Market Cap value in `financial_data` for a given year. \n",
    "\n",
    "For example, if you only had time to find market cap values for 10 of your target carbon companies, then the tool will only look for matches within those 10. All of the tables and visualiztions will be generated as long as you have equity in at least one of those 10 companies. If the tool does not find a match, it will not output any results.\n",
    "\n",
    "This means that the more financial data you manually enter, the more accurate the output of the tool will be.\n",
    "\n",
    "I've included images of where to find market capitalization values below:\n",
    "\n",
    "#### Yahoo Finance - Market Cap Circled In Red\n",
    "<img src=\"img/yahoofinancebp.png\" alt=\"Drawing\" style=\"width: 750px;\"/>\n",
    "\n",
    "#### Google Finance - Market Cap Highlighted\n",
    "<img src=\"img/googlefinancechevron.png\" alt=\"Drawing\" style=\"width: 750px;\"/>"
   ]
  },
  {
   "cell_type": "markdown",
   "metadata": {},
   "source": [
    "## Tool Checklist\n",
    "### Did you do these things before running the next cell?\n",
    "1. Make sure all of your data is in properly formatted csv files with correct file names for:\n",
    "    * `equity_data`\n",
    "    * `carbon_data`\n",
    "    * `financial_data`\n",
    "2. Make you have a data file in all three folders __for each year__ you want to assess \n",
    "3. Make sure you have the latest version of Python and installed all of the third party libraries\n",
    "    * fuzzywuzzy\n",
    "    * mpld3\n",
    "4. Make sure your computer isn't running too many other applications that might take away from the memory performance of the tool\n",
    "\n",
    "### Great, let's run the analysis!\n",
    "The below code cell will perform the analysis. It will generate statements below itself notifying you of the status of the tool and should take around 10 seconds for each year of data you have provided.\n",
    "\n",
    "If there are any missing data pieces or errors in formatting, this cell should print out the corresponding error statement.\n",
    "\n",
    "As with any Python program, if there is an error that has not been accounted for, and you see a weird Error output with no instruction, I highly recommend saving your data in another place, deleting the entire tool from your computer, and redownloading a fresh version from the github website. Turning it off and on again works wonders."
   ]
  },
  {
   "cell_type": "code",
   "execution_count": 7,
   "metadata": {
    "scrolled": true
   },
   "outputs": [
    {
     "name": "stdout",
     "output_type": "stream",
     "text": [
      "Folders Validated\n",
      "All files validated within equity_data\n",
      "All files validated within carbon_data\n",
      "All files validated within financial_data\n",
      "Files validated\n",
      "All data validated within equity_data\n",
      "All data validated within carbon_data\n",
      "All data validated within financial_data\n",
      "Data validated\n",
      "The years of data being matched and analyzed are: {'2013', '2014', '2012'}\n",
      "2013 complete...\n",
      "2014 complete...\n",
      "2012 complete...\n",
      "In 2013, fossil fuel stocks comprised 2.66% of your individual equity portfolio.\n",
      "In 2014, fossil fuel stocks comprised 3.18% of your individual equity portfolio.\n",
      "In 2012, fossil fuel stocks comprised 2.84% of your individual equity portfolio.\n",
      "Congratulations, the tool has completed the analysis!\n"
     ]
    }
   ],
   "source": [
    "# run this code cell to begin matching and assessing fossil fuel investments!\n",
    "%run ./ffequity/ffequity.py"
   ]
  },
  {
   "cell_type": "markdown",
   "metadata": {},
   "source": [
    "Ok, what just happened. This tool performed a fair-share analysis. The steps are highlighted below:\n",
    "1. The tool matched company names to the associated stocks.\n",
    "2. The tool performed the following equation to assign a fair-share portion of the company's carbon reserves to the investment in the company.\n",
    "\n",
    "$$ IC_c = I_c * (C_c / M_c) $$\n",
    "\n",
    "3. The tool merged all of these values from the three different data sources into one output data file\n",
    "4. The tool repeated this for each year specified"
   ]
  },
  {
   "cell_type": "markdown",
   "metadata": {},
   "source": [
    "## Fossil Fuel Equity Summary Tables\n",
    "### Aggregate dollars and carbon by year\n",
    "Hooray! You have succesfully run the analysis! You can look at the output of the analysis by going to data->benchmark and opening the corresponding .csv files.\n",
    "\n",
    "Now we can start to look at the results in this notebook. First, we are going to run the below code cell to tell Benchmark to read in the results of our analysis and tell us the names and quantity of fossil fuel companies we are invested in for each year of data we provided."
   ]
  },
  {
   "cell_type": "code",
   "execution_count": 8,
   "metadata": {},
   "outputs": [
    {
     "name": "stdout",
     "output_type": "stream",
     "text": [
      "2012\n",
      "You owned investments in 7 fossil fuel companies:\n",
      "CONSOL Energy, Coal India, SunCoke Energy, ENI, ConocoPhillips, Cloud Peak Energy, Royal Dutch Shell\n",
      "\n",
      "2013\n",
      "You owned investments in 6 fossil fuel companies:\n",
      "CONSOL Energy, Coal India, Foresight Energy, ENI, ConocoPhillips, Royal Dutch Shell\n",
      "\n",
      "2014\n",
      "You owned investments in 7 fossil fuel companies:\n",
      "CONSOL Energy, Coal India, Foresight Energy, BP, ENI, ConocoPhillips, Royal Dutch Shell\n",
      "\n"
     ]
    }
   ],
   "source": [
    "# this code cell reads in the output of ffequit.py and prints the number and names of invested fossil fuel companies\n",
    "data = benchmark.get_tables()\n",
    "benchmark.company_names()"
   ]
  },
  {
   "cell_type": "markdown",
   "metadata": {
    "collapsed": true
   },
   "source": [
    "Great! Now that we have a sense of how many fossil fuel companies we are invested in, let's see how much money we've put into these companies, and by extension, how much fossil fuel reserves we're invested in. Run the below cell to have Benchmark show us aggregate investments and held reserves by fuel type for each year of data we provided."
   ]
  },
  {
   "cell_type": "code",
   "execution_count": 9,
   "metadata": {},
   "outputs": [
    {
     "data": {
      "text/html": [
       "<div>\n",
       "<style>\n",
       "    .dataframe thead tr:only-child th {\n",
       "        text-align: right;\n",
       "    }\n",
       "\n",
       "    .dataframe thead th {\n",
       "        text-align: left;\n",
       "    }\n",
       "\n",
       "    .dataframe tbody tr th {\n",
       "        vertical-align: top;\n",
       "    }\n",
       "</style>\n",
       "<table border=\"1\" class=\"dataframe\">\n",
       "  <thead>\n",
       "    <tr style=\"text-align: right;\">\n",
       "      <th></th>\n",
       "      <th>Fossil Fuel Equity</th>\n",
       "      <th>Total Individual Equity</th>\n",
       "      <th>Coal Equity</th>\n",
       "      <th>Oil Equity</th>\n",
       "      <th>Gas Equity</th>\n",
       "      <th>Coal Reserves (tCO2)</th>\n",
       "      <th>Oil Reserves (tCO2)</th>\n",
       "      <th>Gas Reserves (tCO2)</th>\n",
       "      <th>Total Reserves (tCO2)</th>\n",
       "    </tr>\n",
       "    <tr>\n",
       "      <th>Year</th>\n",
       "      <th></th>\n",
       "      <th></th>\n",
       "      <th></th>\n",
       "      <th></th>\n",
       "      <th></th>\n",
       "      <th></th>\n",
       "      <th></th>\n",
       "      <th></th>\n",
       "      <th></th>\n",
       "    </tr>\n",
       "  </thead>\n",
       "  <tbody>\n",
       "    <tr>\n",
       "      <th>2012</th>\n",
       "      <td>74,142,802.00</td>\n",
       "      <td>2607380240</td>\n",
       "      <td>27,185,509.00</td>\n",
       "      <td>25,802,252.83</td>\n",
       "      <td>21,155,040.17</td>\n",
       "      <td>12,583,695.19</td>\n",
       "      <td>576,474.14</td>\n",
       "      <td>404,355.15</td>\n",
       "      <td>13,564,524.47</td>\n",
       "    </tr>\n",
       "    <tr>\n",
       "      <th>2013</th>\n",
       "      <td>69,930,824.00</td>\n",
       "      <td>2626738693</td>\n",
       "      <td>22,034,387.00</td>\n",
       "      <td>26,318,296.83</td>\n",
       "      <td>21,578,140.17</td>\n",
       "      <td>9,040,457.94</td>\n",
       "      <td>588,003.59</td>\n",
       "      <td>412,442.23</td>\n",
       "      <td>10,040,903.77</td>\n",
       "    </tr>\n",
       "    <tr>\n",
       "      <th>2014</th>\n",
       "      <td>84,950,971.00</td>\n",
       "      <td>2667326914</td>\n",
       "      <td>21,747,938.00</td>\n",
       "      <td>37,923,096.67</td>\n",
       "      <td>25,279,936.33</td>\n",
       "      <td>7,631,766.58</td>\n",
       "      <td>890,669.62</td>\n",
       "      <td>510,517.16</td>\n",
       "      <td>9,032,953.36</td>\n",
       "    </tr>\n",
       "  </tbody>\n",
       "</table>\n",
       "</div>"
      ],
      "text/plain": [
       "      Fossil Fuel Equity  Total Individual Equity   Coal Equity    Oil Equity  \\\n",
       "Year                                                                            \n",
       "2012       74,142,802.00               2607380240 27,185,509.00 25,802,252.83   \n",
       "2013       69,930,824.00               2626738693 22,034,387.00 26,318,296.83   \n",
       "2014       84,950,971.00               2667326914 21,747,938.00 37,923,096.67   \n",
       "\n",
       "        Gas Equity  Coal Reserves (tCO2)  Oil Reserves (tCO2)  \\\n",
       "Year                                                            \n",
       "2012 21,155,040.17         12,583,695.19           576,474.14   \n",
       "2013 21,578,140.17          9,040,457.94           588,003.59   \n",
       "2014 25,279,936.33          7,631,766.58           890,669.62   \n",
       "\n",
       "      Gas Reserves (tCO2)  Total Reserves (tCO2)  \n",
       "Year                                              \n",
       "2012           404,355.15          13,564,524.47  \n",
       "2013           412,442.23          10,040,903.77  \n",
       "2014           510,517.16           9,032,953.36  "
      ]
     },
     "execution_count": 9,
     "metadata": {},
     "output_type": "execute_result"
    }
   ],
   "source": [
    "# this code cell aggregates equity and reserves by fuel type by year\n",
    "aggregateTable = benchmark.aggregate_table()\n",
    "aggregateTable"
   ]
  },
  {
   "cell_type": "markdown",
   "metadata": {},
   "source": [
    "### Top company level dollars and carbon by year\n",
    "Nice work! We can ask Benchmark to dive a little deeper and look at these investments and reserve holdings on a company by company basis. In order to do so, we need to tell Benchmark what exactly we're looking for and how much of it we want to see. The below code cell contains two variables that you can edit.\n",
    "\n",
    "`chosen` will be the metric you are interested in. It will tell Benchmark how to sort the companies. You can sort companies by:\n",
    "* `\"EMV\"` - the dollar value of the investment in the company\n",
    "* `\"COAL\"` - the carbon dioxide emissions embedded in your fair-share of the company's coal reserves\n",
    "* `\"OIL\"` - the carbon dioxide emissions embedded in your fair-share of the company's coal reserves\n",
    "* `\"GAS\"` - the carbon dioxide emissions embedded in your fair-share of the company's coal reserves\n",
    "\n",
    "Go ahead and change `chosen` to any of these four options. Remember to use all capital letters and to keep your selection enclosed in `\"\"`.\n",
    "\n",
    "`numberOfRows` will be the number of companies you want to limit Benchmark showing you. It can be any whole number, but defaults to 5."
   ]
  },
  {
   "cell_type": "code",
   "execution_count": 10,
   "metadata": {
    "collapsed": true
   },
   "outputs": [],
   "source": [
    "# you may edit these two variables as per the instructions above, or leave them as they are\n",
    "chosen = \"COAL\" # edit this\n",
    "numberOfRows = 5 # edit this"
   ]
  },
  {
   "cell_type": "code",
   "execution_count": 11,
   "metadata": {},
   "outputs": [
    {
     "name": "stdout",
     "output_type": "stream",
     "text": [
      "Top 5 sorted by Coal(tCO2) for 2012\n"
     ]
    },
    {
     "data": {
      "text/html": [
       "<div>\n",
       "<style>\n",
       "    .dataframe thead tr:only-child th {\n",
       "        text-align: right;\n",
       "    }\n",
       "\n",
       "    .dataframe thead th {\n",
       "        text-align: left;\n",
       "    }\n",
       "\n",
       "    .dataframe tbody tr th {\n",
       "        vertical-align: top;\n",
       "    }\n",
       "</style>\n",
       "<table border=\"1\" class=\"dataframe\">\n",
       "  <thead>\n",
       "    <tr style=\"text-align: right;\">\n",
       "      <th></th>\n",
       "      <th>Company</th>\n",
       "      <th>Coal(tCO2)</th>\n",
       "      <th>Oil(tCO2)</th>\n",
       "      <th>Gas(tCO2)</th>\n",
       "      <th>EndingMarketValue</th>\n",
       "    </tr>\n",
       "  </thead>\n",
       "  <tbody>\n",
       "    <tr>\n",
       "      <th>2</th>\n",
       "      <td>SunCoke Energy</td>\n",
       "      <td>6,573,636.25</td>\n",
       "      <td>0.00</td>\n",
       "      <td>0.00</td>\n",
       "      <td>5,258,909.00</td>\n",
       "    </tr>\n",
       "    <tr>\n",
       "      <th>0</th>\n",
       "      <td>CONSOL Energy</td>\n",
       "      <td>5,383,362.16</td>\n",
       "      <td>0.00</td>\n",
       "      <td>0.00</td>\n",
       "      <td>9,959,220.00</td>\n",
       "    </tr>\n",
       "    <tr>\n",
       "      <th>5</th>\n",
       "      <td>Cloud Peak Energy</td>\n",
       "      <td>457,843.57</td>\n",
       "      <td>0.00</td>\n",
       "      <td>0.00</td>\n",
       "      <td>4,959,972.00</td>\n",
       "    </tr>\n",
       "    <tr>\n",
       "      <th>1</th>\n",
       "      <td>Coal India</td>\n",
       "      <td>168,853.20</td>\n",
       "      <td>0.00</td>\n",
       "      <td>0.00</td>\n",
       "      <td>7,007,408.00</td>\n",
       "    </tr>\n",
       "    <tr>\n",
       "      <th>3</th>\n",
       "      <td>ENI</td>\n",
       "      <td>0.00</td>\n",
       "      <td>50,622.01</td>\n",
       "      <td>50,622.01</td>\n",
       "      <td>3,594,163.00</td>\n",
       "    </tr>\n",
       "  </tbody>\n",
       "</table>\n",
       "</div>"
      ],
      "text/plain": [
       "             Company   Coal(tCO2)  Oil(tCO2)  Gas(tCO2)  EndingMarketValue\n",
       "2     SunCoke Energy 6,573,636.25       0.00       0.00       5,258,909.00\n",
       "0      CONSOL Energy 5,383,362.16       0.00       0.00       9,959,220.00\n",
       "5  Cloud Peak Energy   457,843.57       0.00       0.00       4,959,972.00\n",
       "1         Coal India   168,853.20       0.00       0.00       7,007,408.00\n",
       "3                ENI         0.00  50,622.01  50,622.01       3,594,163.00"
      ]
     },
     "metadata": {},
     "output_type": "display_data"
    },
    {
     "name": "stdout",
     "output_type": "stream",
     "text": [
      "Top 5 sorted by Coal(tCO2) for 2013\n"
     ]
    },
    {
     "data": {
      "text/html": [
       "<div>\n",
       "<style>\n",
       "    .dataframe thead tr:only-child th {\n",
       "        text-align: right;\n",
       "    }\n",
       "\n",
       "    .dataframe thead th {\n",
       "        text-align: left;\n",
       "    }\n",
       "\n",
       "    .dataframe tbody tr th {\n",
       "        vertical-align: top;\n",
       "    }\n",
       "</style>\n",
       "<table border=\"1\" class=\"dataframe\">\n",
       "  <thead>\n",
       "    <tr style=\"text-align: right;\">\n",
       "      <th></th>\n",
       "      <th>Company</th>\n",
       "      <th>Coal(tCO2)</th>\n",
       "      <th>Oil(tCO2)</th>\n",
       "      <th>Gas(tCO2)</th>\n",
       "      <th>EndingMarketValue</th>\n",
       "    </tr>\n",
       "  </thead>\n",
       "  <tbody>\n",
       "    <tr>\n",
       "      <th>2</th>\n",
       "      <td>Foresight Energy</td>\n",
       "      <td>4,728,427.00</td>\n",
       "      <td>0.00</td>\n",
       "      <td>0.00</td>\n",
       "      <td>4,728,427.00</td>\n",
       "    </tr>\n",
       "    <tr>\n",
       "      <th>0</th>\n",
       "      <td>CONSOL Energy</td>\n",
       "      <td>4,118,271.89</td>\n",
       "      <td>0.00</td>\n",
       "      <td>0.00</td>\n",
       "      <td>10,158,404.00</td>\n",
       "    </tr>\n",
       "    <tr>\n",
       "      <th>1</th>\n",
       "      <td>Coal India</td>\n",
       "      <td>193,759.05</td>\n",
       "      <td>0.00</td>\n",
       "      <td>0.00</td>\n",
       "      <td>7,147,556.00</td>\n",
       "    </tr>\n",
       "    <tr>\n",
       "      <th>3</th>\n",
       "      <td>ENI</td>\n",
       "      <td>0.00</td>\n",
       "      <td>51,634.45</td>\n",
       "      <td>51,634.45</td>\n",
       "      <td>3,666,046.00</td>\n",
       "    </tr>\n",
       "    <tr>\n",
       "      <th>4</th>\n",
       "      <td>ConocoPhillips</td>\n",
       "      <td>0.00</td>\n",
       "      <td>351,122.72</td>\n",
       "      <td>175,561.36</td>\n",
       "      <td>14,220,470.00</td>\n",
       "    </tr>\n",
       "  </tbody>\n",
       "</table>\n",
       "</div>"
      ],
      "text/plain": [
       "            Company   Coal(tCO2)  Oil(tCO2)  Gas(tCO2)  EndingMarketValue\n",
       "2  Foresight Energy 4,728,427.00       0.00       0.00       4,728,427.00\n",
       "0     CONSOL Energy 4,118,271.89       0.00       0.00      10,158,404.00\n",
       "1        Coal India   193,759.05       0.00       0.00       7,147,556.00\n",
       "3               ENI         0.00  51,634.45  51,634.45       3,666,046.00\n",
       "4    ConocoPhillips         0.00 351,122.72 175,561.36      14,220,470.00"
      ]
     },
     "metadata": {},
     "output_type": "display_data"
    },
    {
     "name": "stdout",
     "output_type": "stream",
     "text": [
      "Top 5 sorted by Coal(tCO2) for 2014\n"
     ]
    },
    {
     "data": {
      "text/html": [
       "<div>\n",
       "<style>\n",
       "    .dataframe thead tr:only-child th {\n",
       "        text-align: right;\n",
       "    }\n",
       "\n",
       "    .dataframe thead th {\n",
       "        text-align: left;\n",
       "    }\n",
       "\n",
       "    .dataframe tbody tr th {\n",
       "        vertical-align: top;\n",
       "    }\n",
       "</style>\n",
       "<table border=\"1\" class=\"dataframe\">\n",
       "  <thead>\n",
       "    <tr style=\"text-align: right;\">\n",
       "      <th></th>\n",
       "      <th>Company</th>\n",
       "      <th>Coal(tCO2)</th>\n",
       "      <th>Oil(tCO2)</th>\n",
       "      <th>Gas(tCO2)</th>\n",
       "      <th>EndingMarketValue</th>\n",
       "    </tr>\n",
       "  </thead>\n",
       "  <tbody>\n",
       "    <tr>\n",
       "      <th>2</th>\n",
       "      <td>Foresight Energy</td>\n",
       "      <td>4,666,957.00</td>\n",
       "      <td>0.00</td>\n",
       "      <td>0.00</td>\n",
       "      <td>4,666,957.00</td>\n",
       "    </tr>\n",
       "    <tr>\n",
       "      <th>0</th>\n",
       "      <td>CONSOL Energy</td>\n",
       "      <td>2,709,822.70</td>\n",
       "      <td>0.00</td>\n",
       "      <td>0.00</td>\n",
       "      <td>10,026,344.00</td>\n",
       "    </tr>\n",
       "    <tr>\n",
       "      <th>1</th>\n",
       "      <td>Coal India</td>\n",
       "      <td>254,986.88</td>\n",
       "      <td>0.00</td>\n",
       "      <td>0.00</td>\n",
       "      <td>7,054,637.00</td>\n",
       "    </tr>\n",
       "    <tr>\n",
       "      <th>3</th>\n",
       "      <td>BP</td>\n",
       "      <td>0.00</td>\n",
       "      <td>310,310.10</td>\n",
       "      <td>103,436.70</td>\n",
       "      <td>15,929,252.00</td>\n",
       "    </tr>\n",
       "    <tr>\n",
       "      <th>4</th>\n",
       "      <td>ENI</td>\n",
       "      <td>0.00</td>\n",
       "      <td>50,963.20</td>\n",
       "      <td>50,963.20</td>\n",
       "      <td>3,618,387.00</td>\n",
       "    </tr>\n",
       "  </tbody>\n",
       "</table>\n",
       "</div>"
      ],
      "text/plain": [
       "            Company   Coal(tCO2)  Oil(tCO2)  Gas(tCO2)  EndingMarketValue\n",
       "2  Foresight Energy 4,666,957.00       0.00       0.00       4,666,957.00\n",
       "0     CONSOL Energy 2,709,822.70       0.00       0.00      10,026,344.00\n",
       "1        Coal India   254,986.88       0.00       0.00       7,054,637.00\n",
       "3                BP         0.00 310,310.10 103,436.70      15,929,252.00\n",
       "4               ENI         0.00  50,963.20  50,963.20       3,618,387.00"
      ]
     },
     "metadata": {},
     "output_type": "display_data"
    }
   ],
   "source": [
    "# run this code cell to examine investments at a company leve\n",
    "benchmark.show_top(rows=numberOfRows, sort=chosen)"
   ]
  },
  {
   "cell_type": "markdown",
   "metadata": {},
   "source": [
    "## Visualizations\n",
    "Now that we've looked at the numbers, let's make some charts! You may zoom in and out of this notebook like you would any webpage, in case you'd like to make it larger. You may also save any of these output charts as image files by right clicking on the chart.\n",
    "\n",
    "### Total Dollars Invested in Fossil Fuel Companies\n",
    "Run the below code cell to tell Benchmark to show us the total amount of dollars invested in fossil fuel companies by year in the form of a bar chart."
   ]
  },
  {
   "cell_type": "code",
   "execution_count": 12,
   "metadata": {},
   "outputs": [
    {
     "data": {
      "image/png": "[encoded data removed]",
      "text/plain": [
       "<matplotlib.figure.Figure at 0x11cc4c96208>"
      ]
     },
     "metadata": {},
     "output_type": "display_data"
    }
   ],
   "source": [
    "# run this cell to see the total amount of investments in fossil fuel companies\n",
    "benchmark.plot_fossil_fuel_equity()"
   ]
  },
  {
   "cell_type": "markdown",
   "metadata": {},
   "source": [
    "### Total Dollars Invested by Fuel Type\n",
    "Run the below code cell to tell Benchmark to show us the previous bar chart, but segemented by fuel type. For example, the `Coal` color represents the amount of dollars invested in coal companies only."
   ]
  },
  {
   "cell_type": "code",
   "execution_count": 13,
   "metadata": {},
   "outputs": [
    {
     "data": {
      "image/png": "[encoded data removed]",
      "text/plain": [
       "<matplotlib.figure.Figure at 0x11cc4ef9eb8>"
      ]
     },
     "metadata": {},
     "output_type": "display_data"
    }
   ],
   "source": [
    "benchmark.plot_fossil_fuel_equity_fuel_types()"
   ]
  },
  {
   "cell_type": "markdown",
   "metadata": {},
   "source": [
    "### Total Held Carbon Reserves\n",
    "Run the below cell to tell Benchmark to show us the emissions embedded in our fair-share of the carbon reserves for the fossil fuel companies we are invested in.\n",
    "\n",
    "For comparison, 1,000,000 tonnes of CO2 is equal to the emissions of electricity usage in 100,000 United States households for one year and the amount of carbon absorbed by 800,000 acres of pine trees in one year."
   ]
  },
  {
   "cell_type": "code",
   "execution_count": 14,
   "metadata": {},
   "outputs": [
    {
     "data": {
      "image/png": "[encoded data removed]",
      "text/plain": [
       "<matplotlib.figure.Figure at 0x11cc4cc1d68>"
      ]
     },
     "metadata": {},
     "output_type": "display_data"
    }
   ],
   "source": [
    "benchmark.plot_reserves()"
   ]
  },
  {
   "cell_type": "markdown",
   "metadata": {},
   "source": [
    "### Total Held Carbon Reserves by Fuel Type\n",
    "Run the below cell to tell Benchmark to show us the emissions embedded in our fair-share of the carbon reserves for the fossil fuel companeis we are invested in, broken out by fuel type.\n",
    "\n",
    "Do you note any differences in the distribution of emissions by fuel type compared to the distribution of invested dollars in the earlier table? You might see `Coal` comprising a larger breakdown of the carbon reserves than it's share of invested dollars; this is because coal is a much dirtier energy source than oil or natural gas."
   ]
  },
  {
   "cell_type": "code",
   "execution_count": 15,
   "metadata": {
    "scrolled": true
   },
   "outputs": [
    {
     "data": {
      "image/png": "[encoded data removed]",
      "text/plain": [
       "<matplotlib.figure.Figure at 0x11cc5259828>"
      ]
     },
     "metadata": {},
     "output_type": "display_data"
    }
   ],
   "source": [
    "benchmark.plot_reserves_fuel_type()"
   ]
  },
  {
   "cell_type": "markdown",
   "metadata": {},
   "source": [
    "### Scatterplot of All Invested Fossil Fuel Companies\n",
    "Now we can have Benchmark show us all the invested fossil fuel companies for a specific year of data __on the same chart!__ First, let's pick a year. Edit the below variable `focusYear` to be a year of the data we have provided."
   ]
  },
  {
   "cell_type": "code",
   "execution_count": 16,
   "metadata": {
    "collapsed": true
   },
   "outputs": [],
   "source": [
    "# modify focusYear to select one of the years of data and run this cell\n",
    "focusYear = \"2012\" # edit this"
   ]
  },
  {
   "cell_type": "markdown",
   "metadata": {},
   "source": [
    "Next, we can run the below code cell to tell Benchmark to plot all fossil fuel companies on a scatterplot with the dollars we have invested in them on the x-axis, and the associated fair-share of carbon reserves on the y-axis. Benchmark will create an interactive scatterplot, courtsey of the `mpld3` library!\n",
    "\n",
    "By hovering the mouse over each individual point, the name of the company will be displayed.\n",
    "\n",
    "If you hover the mouse over the scatterplot, you can see three icons appear in the lower left.\n",
    "\n",
    "If you click on the magnifying glass: click and hold the mouse and drag a rectangle over a set of data points you'd like to observe closer. The scatterplot will zoom in on that area! Click on the magnifying glass to deselect the function.\n",
    "\n",
    "If you click on the graph icon: click and hold the mouse to drag and move the plot window around. Click on the graph icon to  deselect the function.\n",
    "\n",
    "If you click on the home icon, it will return to the entire scatterplot as originally generated."
   ]
  },
  {
   "cell_type": "code",
   "execution_count": 17,
   "metadata": {},
   "outputs": [
    {
     "data": {
      "text/html": [
       "\n",
       "\n",
       "<style>\n",
       "\n",
       "</style>\n",
       "\n",
       "<div id=\"fig_el314412230787189921295642810\"></div>\n",
       "<script>\n",
       "function mpld3_load_lib(url, callback){\n",
       "  var s = document.createElement('script');\n",
       "  s.src = url;\n",
       "  s.async = true;\n",
       "  s.onreadystatechange = s.onload = callback;\n",
       "  s.onerror = function(){console.warn(\"failed to load library \" + url);};\n",
       "  document.getElementsByTagName(\"head\")[0].appendChild(s);\n",
       "}\n",
       "\n",
       "if(typeof(mpld3) !== \"undefined\" && mpld3._mpld3IsLoaded){\n",
       "   // already loaded: just create the figure\n",
       "   !function(mpld3){\n",
       "       \n",
       "       mpld3.draw_figure(\"fig_el314412230787189921295642810\", {\"width\": 864.0, \"height\": 432.0, \"axes\": [{\"bbox\": [0.125, 0.125, 0.775, 0.755], \"xlim\": [2302796.544250299, 30712858.455749698], \"ylim\": [-222375.59472655779, 6897255.872895572], \"xdomain\": [2302796.544250299, 30712858.455749698], \"ydomain\": [-222375.59472655779, 6897255.872895572], \"xscale\": \"linear\", \"yscale\": \"linear\", \"axes\": [{\"position\": \"bottom\", \"nticks\": 8, \"tickvalues\": null, \"tickformat\": null, \"scale\": \"linear\", \"fontsize\": 10.0, \"grid\": {\"gridOn\": false}, \"visible\": true}, {\"position\": \"left\", \"nticks\": 9, \"tickvalues\": null, \"tickformat\": null, \"scale\": \"linear\", \"fontsize\": 10.0, \"grid\": {\"gridOn\": false}, \"visible\": true}], \"axesbg\": \"#FFFFFF\", \"axesbgalpha\": null, \"zoomable\": true, \"id\": \"el31441223078288184\", \"lines\": [], \"paths\": [], \"markers\": [], \"texts\": [{\"text\": \"Equity Invested (USD)\", \"position\": [0.49999999999999994, -0.07511650723571252], \"coordinates\": \"axes\", \"h_anchor\": \"middle\", \"v_baseline\": \"hanging\", \"rotation\": -0.0, \"fontsize\": 11.0, \"color\": \"#000000\", \"alpha\": 1, \"zorder\": 3, \"id\": \"el31441223078976928\"}, {\"text\": \"Carbon Reserves (tCO2)\", \"position\": [-0.09763291517323776, 0.5], \"coordinates\": \"axes\", \"h_anchor\": \"middle\", \"v_baseline\": \"auto\", \"rotation\": -90.0, \"fontsize\": 11.0, \"color\": \"#000000\", \"alpha\": 1, \"zorder\": 3, \"id\": \"el31441223074930416\"}, {\"text\": \"Invested Fossil Fuel Companies in 2012\", \"position\": [0.49999999999999994, 1.0183958793230317], \"coordinates\": \"axes\", \"h_anchor\": \"middle\", \"v_baseline\": \"auto\", \"rotation\": -0.0, \"fontsize\": 12.0, \"color\": \"#000000\", \"alpha\": 1, \"zorder\": 3, \"id\": \"el31441223079311680\"}], \"collections\": [{\"offsets\": \"data01\", \"xindex\": 0, \"yindex\": 1, \"paths\": [[[[0.0, -0.5], [0.13260155, -0.5], [0.25978993539242673, -0.44731684579412084], [0.3535533905932738, -0.3535533905932738], [0.44731684579412084, -0.25978993539242673], [0.5, -0.13260155], [0.5, 0.0], [0.5, 0.13260155], [0.44731684579412084, 0.25978993539242673], [0.3535533905932738, 0.3535533905932738], [0.25978993539242673, 0.44731684579412084], [0.13260155, 0.5], [0.0, 0.5], [-0.13260155, 0.5], [-0.25978993539242673, 0.44731684579412084], [-0.3535533905932738, 0.3535533905932738], [-0.44731684579412084, 0.25978993539242673], [-0.5, 0.13260155], [-0.5, 0.0], [-0.5, -0.13260155], [-0.44731684579412084, -0.25978993539242673], [-0.3535533905932738, -0.3535533905932738], [-0.25978993539242673, -0.44731684579412084], [-0.13260155, -0.5], [0.0, -0.5]], [\"M\", \"C\", \"C\", \"C\", \"C\", \"C\", \"C\", \"C\", \"C\", \"Z\"]]], \"pathtransforms\": [[7.0, 0.0, 0.0, 7.0, 0.0, 0.0]], \"alphas\": [null], \"edgecolors\": [\"#1F77B4\"], \"facecolors\": [\"#1F77B4\"], \"edgewidths\": [0.3], \"offsetcoordinates\": \"data\", \"pathcoordinates\": \"display\", \"zorder\": 1, \"id\": \"el31441223079495776\"}], \"images\": [], \"sharex\": [], \"sharey\": []}], \"data\": {\"data01\": [[9959220.0, 5383362.162162161], [7007408.0, 168853.2048192771], [5258909.0, 6573636.25], [3594163.0, 101244.02816901408], [13941638.0, 516356.9629629629], [4959972.0, 457843.5692307693], [29421492.0, 363228.29629629623]]}, \"id\": \"el31441223078718992\", \"plugins\": [{\"type\": \"reset\"}, {\"type\": \"zoom\", \"button\": true, \"enabled\": false}, {\"type\": \"boxzoom\", \"button\": true, \"enabled\": false}, {\"type\": \"tooltip\", \"id\": \"el31441223079495776\", \"labels\": [\"CONSOL Energy\", \"Coal India\", \"SunCoke Energy\", \"ENI\", \"ConocoPhillips\", \"Cloud Peak Energy\", \"Royal Dutch Shell\"], \"hoffset\": 0, \"voffset\": 10, \"location\": \"mouse\"}]});\n",
       "   }(mpld3);\n",
       "}else if(typeof define === \"function\" && define.amd){\n",
       "   // require.js is available: use it to load d3/mpld3\n",
       "   require.config({paths: {d3: \"https://mpld3.github.io/js/d3.v3.min\"}});\n",
       "   require([\"d3\"], function(d3){\n",
       "      window.d3 = d3;\n",
       "      mpld3_load_lib(\"https://mpld3.github.io/js/mpld3.v0.3.js\", function(){\n",
       "         \n",
       "         mpld3.draw_figure(\"fig_el314412230787189921295642810\", {\"width\": 864.0, \"height\": 432.0, \"axes\": [{\"bbox\": [0.125, 0.125, 0.775, 0.755], \"xlim\": [2302796.544250299, 30712858.455749698], \"ylim\": [-222375.59472655779, 6897255.872895572], \"xdomain\": [2302796.544250299, 30712858.455749698], \"ydomain\": [-222375.59472655779, 6897255.872895572], \"xscale\": \"linear\", \"yscale\": \"linear\", \"axes\": [{\"position\": \"bottom\", \"nticks\": 8, \"tickvalues\": null, \"tickformat\": null, \"scale\": \"linear\", \"fontsize\": 10.0, \"grid\": {\"gridOn\": false}, \"visible\": true}, {\"position\": \"left\", \"nticks\": 9, \"tickvalues\": null, \"tickformat\": null, \"scale\": \"linear\", \"fontsize\": 10.0, \"grid\": {\"gridOn\": false}, \"visible\": true}], \"axesbg\": \"#FFFFFF\", \"axesbgalpha\": null, \"zoomable\": true, \"id\": \"el31441223078288184\", \"lines\": [], \"paths\": [], \"markers\": [], \"texts\": [{\"text\": \"Equity Invested (USD)\", \"position\": [0.49999999999999994, -0.07511650723571252], \"coordinates\": \"axes\", \"h_anchor\": \"middle\", \"v_baseline\": \"hanging\", \"rotation\": -0.0, \"fontsize\": 11.0, \"color\": \"#000000\", \"alpha\": 1, \"zorder\": 3, \"id\": \"el31441223078976928\"}, {\"text\": \"Carbon Reserves (tCO2)\", \"position\": [-0.09763291517323776, 0.5], \"coordinates\": \"axes\", \"h_anchor\": \"middle\", \"v_baseline\": \"auto\", \"rotation\": -90.0, \"fontsize\": 11.0, \"color\": \"#000000\", \"alpha\": 1, \"zorder\": 3, \"id\": \"el31441223074930416\"}, {\"text\": \"Invested Fossil Fuel Companies in 2012\", \"position\": [0.49999999999999994, 1.0183958793230317], \"coordinates\": \"axes\", \"h_anchor\": \"middle\", \"v_baseline\": \"auto\", \"rotation\": -0.0, \"fontsize\": 12.0, \"color\": \"#000000\", \"alpha\": 1, \"zorder\": 3, \"id\": \"el31441223079311680\"}], \"collections\": [{\"offsets\": \"data01\", \"xindex\": 0, \"yindex\": 1, \"paths\": [[[[0.0, -0.5], [0.13260155, -0.5], [0.25978993539242673, -0.44731684579412084], [0.3535533905932738, -0.3535533905932738], [0.44731684579412084, -0.25978993539242673], [0.5, -0.13260155], [0.5, 0.0], [0.5, 0.13260155], [0.44731684579412084, 0.25978993539242673], [0.3535533905932738, 0.3535533905932738], [0.25978993539242673, 0.44731684579412084], [0.13260155, 0.5], [0.0, 0.5], [-0.13260155, 0.5], [-0.25978993539242673, 0.44731684579412084], [-0.3535533905932738, 0.3535533905932738], [-0.44731684579412084, 0.25978993539242673], [-0.5, 0.13260155], [-0.5, 0.0], [-0.5, -0.13260155], [-0.44731684579412084, -0.25978993539242673], [-0.3535533905932738, -0.3535533905932738], [-0.25978993539242673, -0.44731684579412084], [-0.13260155, -0.5], [0.0, -0.5]], [\"M\", \"C\", \"C\", \"C\", \"C\", \"C\", \"C\", \"C\", \"C\", \"Z\"]]], \"pathtransforms\": [[7.0, 0.0, 0.0, 7.0, 0.0, 0.0]], \"alphas\": [null], \"edgecolors\": [\"#1F77B4\"], \"facecolors\": [\"#1F77B4\"], \"edgewidths\": [0.3], \"offsetcoordinates\": \"data\", \"pathcoordinates\": \"display\", \"zorder\": 1, \"id\": \"el31441223079495776\"}], \"images\": [], \"sharex\": [], \"sharey\": []}], \"data\": {\"data01\": [[9959220.0, 5383362.162162161], [7007408.0, 168853.2048192771], [5258909.0, 6573636.25], [3594163.0, 101244.02816901408], [13941638.0, 516356.9629629629], [4959972.0, 457843.5692307693], [29421492.0, 363228.29629629623]]}, \"id\": \"el31441223078718992\", \"plugins\": [{\"type\": \"reset\"}, {\"type\": \"zoom\", \"button\": true, \"enabled\": false}, {\"type\": \"boxzoom\", \"button\": true, \"enabled\": false}, {\"type\": \"tooltip\", \"id\": \"el31441223079495776\", \"labels\": [\"CONSOL Energy\", \"Coal India\", \"SunCoke Energy\", \"ENI\", \"ConocoPhillips\", \"Cloud Peak Energy\", \"Royal Dutch Shell\"], \"hoffset\": 0, \"voffset\": 10, \"location\": \"mouse\"}]});\n",
       "      });\n",
       "    });\n",
       "}else{\n",
       "    // require.js not available: dynamically load d3 & mpld3\n",
       "    mpld3_load_lib(\"https://mpld3.github.io/js/d3.v3.min.js\", function(){\n",
       "         mpld3_load_lib(\"https://mpld3.github.io/js/mpld3.v0.3.js\", function(){\n",
       "                 \n",
       "                 mpld3.draw_figure(\"fig_el314412230787189921295642810\", {\"width\": 864.0, \"height\": 432.0, \"axes\": [{\"bbox\": [0.125, 0.125, 0.775, 0.755], \"xlim\": [2302796.544250299, 30712858.455749698], \"ylim\": [-222375.59472655779, 6897255.872895572], \"xdomain\": [2302796.544250299, 30712858.455749698], \"ydomain\": [-222375.59472655779, 6897255.872895572], \"xscale\": \"linear\", \"yscale\": \"linear\", \"axes\": [{\"position\": \"bottom\", \"nticks\": 8, \"tickvalues\": null, \"tickformat\": null, \"scale\": \"linear\", \"fontsize\": 10.0, \"grid\": {\"gridOn\": false}, \"visible\": true}, {\"position\": \"left\", \"nticks\": 9, \"tickvalues\": null, \"tickformat\": null, \"scale\": \"linear\", \"fontsize\": 10.0, \"grid\": {\"gridOn\": false}, \"visible\": true}], \"axesbg\": \"#FFFFFF\", \"axesbgalpha\": null, \"zoomable\": true, \"id\": \"el31441223078288184\", \"lines\": [], \"paths\": [], \"markers\": [], \"texts\": [{\"text\": \"Equity Invested (USD)\", \"position\": [0.49999999999999994, -0.07511650723571252], \"coordinates\": \"axes\", \"h_anchor\": \"middle\", \"v_baseline\": \"hanging\", \"rotation\": -0.0, \"fontsize\": 11.0, \"color\": \"#000000\", \"alpha\": 1, \"zorder\": 3, \"id\": \"el31441223078976928\"}, {\"text\": \"Carbon Reserves (tCO2)\", \"position\": [-0.09763291517323776, 0.5], \"coordinates\": \"axes\", \"h_anchor\": \"middle\", \"v_baseline\": \"auto\", \"rotation\": -90.0, \"fontsize\": 11.0, \"color\": \"#000000\", \"alpha\": 1, \"zorder\": 3, \"id\": \"el31441223074930416\"}, {\"text\": \"Invested Fossil Fuel Companies in 2012\", \"position\": [0.49999999999999994, 1.0183958793230317], \"coordinates\": \"axes\", \"h_anchor\": \"middle\", \"v_baseline\": \"auto\", \"rotation\": -0.0, \"fontsize\": 12.0, \"color\": \"#000000\", \"alpha\": 1, \"zorder\": 3, \"id\": \"el31441223079311680\"}], \"collections\": [{\"offsets\": \"data01\", \"xindex\": 0, \"yindex\": 1, \"paths\": [[[[0.0, -0.5], [0.13260155, -0.5], [0.25978993539242673, -0.44731684579412084], [0.3535533905932738, -0.3535533905932738], [0.44731684579412084, -0.25978993539242673], [0.5, -0.13260155], [0.5, 0.0], [0.5, 0.13260155], [0.44731684579412084, 0.25978993539242673], [0.3535533905932738, 0.3535533905932738], [0.25978993539242673, 0.44731684579412084], [0.13260155, 0.5], [0.0, 0.5], [-0.13260155, 0.5], [-0.25978993539242673, 0.44731684579412084], [-0.3535533905932738, 0.3535533905932738], [-0.44731684579412084, 0.25978993539242673], [-0.5, 0.13260155], [-0.5, 0.0], [-0.5, -0.13260155], [-0.44731684579412084, -0.25978993539242673], [-0.3535533905932738, -0.3535533905932738], [-0.25978993539242673, -0.44731684579412084], [-0.13260155, -0.5], [0.0, -0.5]], [\"M\", \"C\", \"C\", \"C\", \"C\", \"C\", \"C\", \"C\", \"C\", \"Z\"]]], \"pathtransforms\": [[7.0, 0.0, 0.0, 7.0, 0.0, 0.0]], \"alphas\": [null], \"edgecolors\": [\"#1F77B4\"], \"facecolors\": [\"#1F77B4\"], \"edgewidths\": [0.3], \"offsetcoordinates\": \"data\", \"pathcoordinates\": \"display\", \"zorder\": 1, \"id\": \"el31441223079495776\"}], \"images\": [], \"sharex\": [], \"sharey\": []}], \"data\": {\"data01\": [[9959220.0, 5383362.162162161], [7007408.0, 168853.2048192771], [5258909.0, 6573636.25], [3594163.0, 101244.02816901408], [13941638.0, 516356.9629629629], [4959972.0, 457843.5692307693], [29421492.0, 363228.29629629623]]}, \"id\": \"el31441223078718992\", \"plugins\": [{\"type\": \"reset\"}, {\"type\": \"zoom\", \"button\": true, \"enabled\": false}, {\"type\": \"boxzoom\", \"button\": true, \"enabled\": false}, {\"type\": \"tooltip\", \"id\": \"el31441223079495776\", \"labels\": [\"CONSOL Energy\", \"Coal India\", \"SunCoke Energy\", \"ENI\", \"ConocoPhillips\", \"Cloud Peak Energy\", \"Royal Dutch Shell\"], \"hoffset\": 0, \"voffset\": 10, \"location\": \"mouse\"}]});\n",
       "            })\n",
       "         });\n",
       "}\n",
       "</script>"
      ],
      "text/plain": [
       "<IPython.core.display.HTML object>"
      ]
     },
     "execution_count": 17,
     "metadata": {},
     "output_type": "execute_result"
    }
   ],
   "source": [
    "# run this code cell to generate an interactive scatterplot\n",
    "benchmark.scatterplot(focusYear)"
   ]
  },
  {
   "cell_type": "markdown",
   "metadata": {
    "collapsed": true
   },
   "source": [
    "## Interpreting the Scatterplot\n",
    "In the above scatterplot, you will see all of the fossil fuel companies you are invested in that the tool found plotted against the number of dollars you've invested in each and the amount of carbon reserves that was allocated via the fair share analysis.\n",
    "\n",
    "When evaluating the impact of your investments, you can start by looking at the four quadrants of the scatterplot. The upper-left quadrant of the scatterplot contains companies that have high carbon reserves and low dollar investments. These are prime candidates for divestment since their impact on climate change is high per dollar and you can achieve great reductions here.\n",
    "\n",
    "The upper-right quadrant of the scatterplot contains companies that have high carbon reserves and high dollar investments. These are also good candidates for divestment, however, since you invested a lot of money in them, it may be administratively intensive to succesfully move funds out of these accounts.\n",
    "\n",
    "The lower-right quadrant of the scatterplot contains companies that have lower carbon reserves and high dollar investments. These are companies that may be exposed to the highest transition risk, or the risk that the value of these investments will decrease as the global economy transitions to renewable energy and policy mechanisms limit the extraction and distribution of fossil fuels. While the carbon reserves are not as high as other companies, you may want to consider divesting from this quadrant to reduce your exposure to transition risk.\n",
    "\n",
    "The lower-left quadrant of the scatterplot contains companies that have lower carbon reserves and low dollar investments. These may be too small to worry about now, you should focus on other higher-impact options."
   ]
  },
  {
   "cell_type": "markdown",
   "metadata": {},
   "source": [
    "# You're finished!\n",
    "You've completed the Fossil Fuel Equity Finder notebook! Congratulations! Hopefully you've gained some insight into how your institution is investing. Feel free to create your own version of this tool, play around with inserting different sources of carbon data, add more years of data, and see how the results change. You can even add data with your future projections or estimates of reducing fossil fuel investments and see how it impacts the visualizations!\n",
    "\n",
    "For more resources on Jupyter Notebook functionality visit their documentation: http://jupyter-notebook.readthedocs.io/en/stable/notebook.html"
   ]
  },
  {
   "cell_type": "code",
   "execution_count": null,
   "metadata": {
    "collapsed": true
   },
   "outputs": [],
   "source": []
  }
 ],
 "metadata": {
  "kernelspec": {
   "display_name": "Python 3",
   "language": "python",
   "name": "python3"
  },
  "language_info": {
   "codemirror_mode": {
    "name": "ipython",
    "version": 3
   },
   "file_extension": ".py",
   "mimetype": "text/x-python",
   "name": "python",
   "nbconvert_exporter": "python",
   "pygments_lexer": "ipython3",
   "version": "3.6.1"
  }
 },
 "nbformat": 4,
 "nbformat_minor": 2
}
