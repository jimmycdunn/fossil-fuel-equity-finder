{
 "cells": [
  {
   "cell_type": "markdown",
   "metadata": {},
   "source": [
    "# Fossil Fuel Equity Finder\n",
    "## Background\n",
    "This tool was developed by a Climate Corps Bay Area fellow for Alameda County's Office of Sustainability and is intentioned to assist non-technical staff members in performing a preliminary assesssment of individual stock equity investments in fossil fuel companies embedded in their institutional portfolios. If you are interested in examining mutual fund equity investments in fossil fuel companies, visit [fossilfreefunds.org](https://fossilfreefunds.org/).\n",
    "\n",
    "## Scope\n",
    "This tool has 3 parts. In Part 1, you will learn how to request and prepare data on your insitutional equity portfolio and data on potential carbon emissions affiliated with the top fossil fuel companies. The tool will then identify which fossil fuel companies you are invested in and show you how much money you have invested in them. In Part 2, you will acquire market capitalization data for your flagged companies and the tool will perform a fair share analysis to determine what portion of the companies' carbon reserves you are directly invested in. In Part 3, you will see all of the companies you are invested in via a scatterplot that will highlight certain companies for potential action.\n",
    "\n",
    "## Time Requirement\n",
    "We estimate it will take 5 hours to collect and prepare the data to run Part 1 of the tool, including time spent requesting the data and formatting the data to the specifications of the tool. Running the tool will take no more than 30 minutes once all of the data is complete. We estimate it will take anywhere from 1-4 hours to research and gather the market capitalization data to run Parts 2 and 3, depending on the number of identified fossil fuel companies you may be invested in.\n",
    "\n",
    "## Folder Structure\n",
    "You are currently in a Jupyter Notebook, a front end application designed to make it easy for users to analyze and produce insights from data. The actual tool, however, is a series of Python scripts and data files that operate behind the scenes to match data and perform the analysis. This requires you as a user to manually save .csv files in two different folders: `data/equity_data/` and `data/carbon_data/`. The tool will walk you through the specifications neccessary to name and format the files appropriately. When you gather market capitalization data for Parts 2 and 3, you will be updating data files in `data/financial_data/`.\n",
    "\n",
    "Some other folders you will see in the tool are `example_data`, which contains example fake data files that are named and formatted correctly, `ffequity`, which contains the back end Python code that this Notebook utilizes, and other folders that you don't need to worry about including `img` and `tests`.\n",
    "\n"
   ]
  },
  {
   "cell_type": "markdown",
   "metadata": {},
   "source": [
    "# Part I: Identifying Fossil Fuel Equity Investments\n",
    "Welcome to the tool! If you've made it this far, you're probably interested in seeing how this process will work. In this section, you'll learn where to acquire the base data needed to perform the analysis and how to prepare it for the tool.\n",
    "\n",
    "## Acquiring individual equity data\n",
    "This tool examines fossil fuel investments in individual equity, or stocks that a investor holds in individual companies. This does not include stocks an investor holds in mutual or commingled funds. In order to acquire the individual equity data that is affiliated with the institution you are examining, first you'll want to find out which fund you want to examine. If you are a member of a County pension plan, you may be interested in examining the investment portfolio affiliated with your pension. If you are a member of a government defferred compensation program, you may be interested in examining the investments affiliated with different plan options.\n",
    "\n",
    "Once you have identified what type of investment fund you want to examine, you will need to send a data request to the appropriate data manager of that fund. This may be a CIO office or a technical services department; in most cases, if you reach out to a general communications email address or phone number, the staff working there should be able to direct you to the right place. You will be asking for **individual equity positions** for a specific year. For example, a good reflection of how a fund was invested in 2017 would be a snapshot of their individual equity positions on December 31, 2017. **It is important that you receive both the names of the stocks AND the ending market value (dollar value) of the investments**.\n",
    "\n",
    "## Acquiring carbon reserve data\n",
    "Once you send a data request to your investment fund, you should then start to think about what types of fossil fuel investments you are interested in examining. For example, Fossil Free Indexes provides an annual data set called the  [Carbon Underground 200](http://fossilfreeindexes.com/research/the-carbon-underground/), which is a list of the top publically traded 100 coal and 100 oil and gas companies compiled based on their listed carbon reserves (converted to GtCO2e). There may be other free or paid data sets that you may be interested in that you can use in this tool.\n",
    "\n",
    "## \"Years of Data\"\n",
    "This tool performs an analysis linking stock investments in companies to their carbon reserves for a particular year. For example, if you have equity positions for 2017 AND carbon reserve data for 2017, then this tool will perform an analysis for you. If you have equity positions for 2016 and 2017 AND carbon reserve data for 2016 and 2017, this tool will perform an analysis for you for both years of data: you will have information on both 2016 and 2017. \"Years of data\" refers to the historical data you will be requesting, not the current year or how many years you've been using the tool.\n",
    "\n",
    "### Year Mismatching\n",
    "What if you aren't able to completely match each year of data? The tool can work with that! There are a few cases you can work around:\n",
    "\n",
    "__Case 1: You have only one year of carbon data but multiple years of equity data.__\n",
    "In this case, you can project out, or re-use, your one year of carbon data into the corresponding years you have equity data for. Understand that you are now building in an assumption that the top fossil fuel reserves are not changing from year to year, which is a fine assumption to make but lowers the accuracy of the analysis. For example, if you have equity data for 2014, 2015, and 2016, but only have carbon reserve data for 2016, you can manually create two new .csv carbon data files for 2014 and 2015 using the data values contained in 2016.\n",
    "\n",
    "__Case 2: You have only one year of equity data but multiple years of carbon data.__\n",
    "Unlike Case 1, this case is a bit less useful for us. The tool examines investment data with carbon data as a supplement, and investment data changes quite significantly from year to year. In this case, we would recommend only using the year of carbon data that matches the one year of equity data.\n",
    "\n",
    "__Case 3: You have one year of equity data and one year of carbon data, but they're both for different years.__\n",
    "In this case, you can still perform the analysis. Rename the carbon data year to match the equity data year, just make a note of what year the carbon data actually represents. This decreases the accuracy of the tool, but is not a deal breaker. Due to the way the tool was designed, it is important that even though the years are actually different, they are named as if they were the same year.\n",
    "\n",
    "\n",
    "### The tool pauses here, please continue once you have acquired both equity and carbon data for as many years as you are interested in examining."
   ]
  },
  {
   "cell_type": "markdown",
   "metadata": {},
   "source": [
    "## Getting Started\n",
    "Now that you have your data, let's begin!\n",
    "\n",
    "A few housekeeping items:\n",
    "\n",
    "First things first, let's make sure we start fresh. If you see a number inside the `In [ ]` in the below code cell, that means we need to reset the notebook. Go to the top bar, click on `Kernel` and click on `Restart & Clear Output`.\n",
    "\n",
    "Great! Now we can get started. The following code cell containts a few import statements that will load in the packages for displaying tables and data visualizations in the notebook. It also contains a few general commands to the notebook on how to format these tables and visualizations. You can run a code cell in Jupyter notebooks by clicking on the cell, selecting `Cell` from the top bar, and clicking on `Run Cells`. If you're comfortable with keyboard shortcuts, you can click on the cell and press `CTRL-ENTER` to run the cell.\n",
    "\n",
    "Go ahead and run the below cell now."
   ]
  },
  {
   "cell_type": "code",
   "execution_count": 1,
   "metadata": {},
   "outputs": [],
   "source": [
    "# numpy and pandas are fundamental data processing libraries for Python\n",
    "import numpy as np\n",
    "import pandas as pd\n",
    "\n",
    "# this line tells the notebook to display all numbers with 2 floating decimal places and commas separating thousands\n",
    "pd.options.display.float_format = '{:,.2f}'.format\n",
    "\n",
    "# matplotlib is a data visualization library for Python\n",
    "import matplotlib.pyplot as plt\n",
    "\n",
    "# these lines tell the notebook to show you the visualizations within the notebook using the \"Seaborn\" style\n",
    "# https://seaborn.pydata.org/\n",
    "%matplotlib inline\n",
    "plt.style.use('seaborn-notebook')\n",
    "plt.rcParams['figure.figsize'] = [12, 6]\n",
    "\n",
    "# this line will let the notebook show you images\n",
    "from IPython.display import Image"
   ]
  },
  {
   "cell_type": "markdown",
   "metadata": {},
   "source": [
    "Great! If the cell worked correctly, you should see a number inside the `In [ ]` cell. If you restarted the notebook, that number should be `In[1]`.\n",
    "\n",
    "## The Benchmark Object\n",
    "Now we're going to create a \"Benchmark\" Python object, which will be responsible for interfacing between us and the data. In order to do so successfully, we need to edit the below code cell to include __all__ of the years we want to analyze. For example, if you have data files for 2014-2017, edit the below `years` variable to equal `[\"2014\", \"2015\", \"2016\", \"2017\"]`. If you only have one year's worth of data for 2014, edit the below `years` variable to equal `[\"2014\"]`. Please note that the formatting of the list in brackets on the right side of the `=` next to `years` is very important:\n",
    "* Each year must be in YYYY format\n",
    "* Each year must be enclosed between open and closed `\"` \n",
    "* Each year must be separated by `,`\n",
    "* Note the last year in the list is not followed by a `,`\n",
    "\n",
    "When you are done modifying (or not if the years happen to align with what you have), run the cell."
   ]
  },
  {
   "cell_type": "code",
   "execution_count": 2,
   "metadata": {},
   "outputs": [],
   "source": [
    "# modify the years in this list to reflect the entirety of your data and run this cell to store the values\n",
    "years = [\"2012\", \"2013\", \"2014\"] # edit this"
   ]
  },
  {
   "cell_type": "markdown",
   "metadata": {},
   "source": [
    "Great! Run the below cell to create your Benchmark object!"
   ]
  },
  {
   "cell_type": "code",
   "execution_count": 3,
   "metadata": {},
   "outputs": [],
   "source": [
    "# this cell creates a Benchmark object that will perform the visualizations inline\n",
    "from ffequity.processors.benchmark import Benchmark\n",
    "benchmark = Benchmark(years)"
   ]
  },
  {
   "cell_type": "markdown",
   "metadata": {},
   "source": [
    "Now we can call on Benchmark to help us out throughout the remainder of the tool.\n",
    "\n",
    "## Data Cleaning\n",
    "The two data folders you will be loading your acquired data are as follows:\n",
    "* `data/equity_data/` is the folder where you will be saving the data you acquired from the investment fund\n",
    "* `data/carbon_data/` is the folder where you will be saving the data you acquired from a carbon accounting institution\n",
    "\n",
    "You will be cleaning and saving these data files according to the following standards:\n",
    "\n",
    "### carbon_data\n",
    "For .csv files stored in `data/carbon_data/`, please format them with four columns as indicated below:\n",
    "* __Company(Company)__ containing data with letters and numbers representing the names of fossil fuel companies\n",
    "* __Coal(GtCO2)__ containing data with with numbers only representing the estimated carbon emissions associated with fossil fuel companies' listed coal reserves in gigatons\n",
    "* __Oil(GtCO2)__ containing data with numbers only representing the estimated carbon emissions associated with fossil fuel companies' listed oil reserves in gigatons\n",
    "* __Gas(GtCO2)__ containing data with numbers only representing the estimated carbon emissions associated with fossil fuel companies' listed natural gas reserves in gigatons\n",
    "\n",
    "__IMPORTANT NOTE__: If a company has reserves in coal and oil and/or gas, please combine their reserves into one row. Do not include duplicate company names and try to consolidate data where possible.\n",
    "\n",
    "__IMPORTANT NOTE__: When you are formatting your data values within each sheet, make sure that there are no spaces at the end of company names, as sneaky spaces at the end of a data value will break the tool!!!\n",
    "\n",
    "Please keep each year's worth of carbon data in a separate .csv file and name them according to the following naming convention:\n",
    "* `YYYYFilename.csv`\n",
    "* Note: The only requirement for carbon_data filenames is to lead each name with a four digit prefix representing the year that the data file examines, not the year you acquired the data.\n",
    "\n",
    "You can explore `exampledata/carbon_data/` to see how carbon reserve data files should be titled and formatted. We can also ask Benchmark to help us out by showing us what a properly formatted carbon reserve data file looks like. Go ahead and run the below cell."
   ]
  },
  {
   "cell_type": "code",
   "execution_count": 4,
   "metadata": {},
   "outputs": [
    {
     "data": {
      "text/html": [
       "<div>\n",
       "<style scoped>\n",
       "    .dataframe tbody tr th:only-of-type {\n",
       "        vertical-align: middle;\n",
       "    }\n",
       "\n",
       "    .dataframe tbody tr th {\n",
       "        vertical-align: top;\n",
       "    }\n",
       "\n",
       "    .dataframe thead th {\n",
       "        text-align: right;\n",
       "    }\n",
       "</style>\n",
       "<table border=\"1\" class=\"dataframe\">\n",
       "  <thead>\n",
       "    <tr style=\"text-align: right;\">\n",
       "      <th></th>\n",
       "      <th>Company(Company)</th>\n",
       "      <th>Coal(GtCO2)</th>\n",
       "      <th>Oil(GtCO2)</th>\n",
       "      <th>Gas(GtCO2)</th>\n",
       "    </tr>\n",
       "  </thead>\n",
       "  <tbody>\n",
       "    <tr>\n",
       "      <th>0</th>\n",
       "      <td>Best Coal</td>\n",
       "      <td>10.00</td>\n",
       "      <td>0.00</td>\n",
       "      <td>0.00</td>\n",
       "    </tr>\n",
       "    <tr>\n",
       "      <th>1</th>\n",
       "      <td>Some Gas</td>\n",
       "      <td>0.00</td>\n",
       "      <td>5.00</td>\n",
       "      <td>2.50</td>\n",
       "    </tr>\n",
       "    <tr>\n",
       "      <th>2</th>\n",
       "      <td>More Oil</td>\n",
       "      <td>0.00</td>\n",
       "      <td>10.00</td>\n",
       "      <td>2.50</td>\n",
       "    </tr>\n",
       "    <tr>\n",
       "      <th>3</th>\n",
       "      <td>Better Coal</td>\n",
       "      <td>20.00</td>\n",
       "      <td>0.00</td>\n",
       "      <td>0.00</td>\n",
       "    </tr>\n",
       "    <tr>\n",
       "      <th>4</th>\n",
       "      <td>Decent Coal</td>\n",
       "      <td>5.00</td>\n",
       "      <td>0.00</td>\n",
       "      <td>0.00</td>\n",
       "    </tr>\n",
       "  </tbody>\n",
       "</table>\n",
       "</div>"
      ],
      "text/plain": [
       "  Company(Company)  Coal(GtCO2)  Oil(GtCO2)  Gas(GtCO2)\n",
       "0        Best Coal        10.00        0.00        0.00\n",
       "1         Some Gas         0.00        5.00        2.50\n",
       "2         More Oil         0.00       10.00        2.50\n",
       "3      Better Coal        20.00        0.00        0.00\n",
       "4      Decent Coal         5.00        0.00        0.00"
      ]
     },
     "metadata": {},
     "output_type": "display_data"
    }
   ],
   "source": [
    "# run this cell to have Benchmark show you how to format your carbon data files\n",
    "# ignore the running numbers on the far left, the first column should be in your first column\n",
    "benchmark.show_sample_tables(\"Carbon\")"
   ]
  },
  {
   "cell_type": "markdown",
   "metadata": {},
   "source": [
    "#### equity_data\n",
    "For .csv files stored in the `equity_data` folder, please format them with two columns titled and data typed as follows:\n",
    "* __Stocks__ containing data with letters and numbers representing the names of individual companies you are invested in\n",
    "* __EndingMarketValue__ containing data with with numbers only representing the USD value of all shares held in each individual company\n",
    "\n",
    "Please keep each year's worth of equity data in a separate .csv file and name them according to the following naming convention:\n",
    "* `YYYYFilename.csv`\n",
    "* Note: The only requirement for equity_data filenames is to lead each name with a four digit prefix representing the year that the data file examines, not the year you acquired the data.\n",
    "\n",
    "You can explore `exampledata/equity_data/` to see how equity data files should be titled and formatted. We can also ask Benchmark to help us out by showing us what a properly formatted equity data file looks like. Go ahead and run the below cell."
   ]
  },
  {
   "cell_type": "code",
   "execution_count": 5,
   "metadata": {},
   "outputs": [
    {
     "data": {
      "text/html": [
       "<div>\n",
       "<style scoped>\n",
       "    .dataframe tbody tr th:only-of-type {\n",
       "        vertical-align: middle;\n",
       "    }\n",
       "\n",
       "    .dataframe tbody tr th {\n",
       "        vertical-align: top;\n",
       "    }\n",
       "\n",
       "    .dataframe thead th {\n",
       "        text-align: right;\n",
       "    }\n",
       "</style>\n",
       "<table border=\"1\" class=\"dataframe\">\n",
       "  <thead>\n",
       "    <tr style=\"text-align: right;\">\n",
       "      <th></th>\n",
       "      <th>Stocks</th>\n",
       "      <th>EndingMarketValue</th>\n",
       "    </tr>\n",
       "  </thead>\n",
       "  <tbody>\n",
       "    <tr>\n",
       "      <th>0</th>\n",
       "      <td>SM GAS CLASS A</td>\n",
       "      <td>54,987,651.00</td>\n",
       "    </tr>\n",
       "    <tr>\n",
       "      <th>1</th>\n",
       "      <td>MORE OIL</td>\n",
       "      <td>13,654,977.00</td>\n",
       "    </tr>\n",
       "    <tr>\n",
       "      <th>2</th>\n",
       "      <td>DCT COAL OPTIONS</td>\n",
       "      <td>546,879,852.00</td>\n",
       "    </tr>\n",
       "    <tr>\n",
       "      <th>3</th>\n",
       "      <td>BST COAL</td>\n",
       "      <td>1,124,568.00</td>\n",
       "    </tr>\n",
       "    <tr>\n",
       "      <th>4</th>\n",
       "      <td>CLOTHES R US</td>\n",
       "      <td>1,549,865.00</td>\n",
       "    </tr>\n",
       "  </tbody>\n",
       "</table>\n",
       "</div>"
      ],
      "text/plain": [
       "             Stocks  EndingMarketValue\n",
       "0    SM GAS CLASS A      54,987,651.00\n",
       "1          MORE OIL      13,654,977.00\n",
       "2  DCT COAL OPTIONS     546,879,852.00\n",
       "3          BST COAL       1,124,568.00\n",
       "4      CLOTHES R US       1,549,865.00"
      ]
     },
     "metadata": {},
     "output_type": "display_data"
    }
   ],
   "source": [
    "# run this cell to have Benchmark show you how to format your carbon data files\n",
    "benchmark.show_sample_tables(\"Equity\")"
   ]
  },
  {
   "cell_type": "markdown",
   "metadata": {},
   "source": [
    "## CHECKPOINT\n",
    "### Before you run the following cell, make sure you completed the following steps correctly.\n",
    "1. Make sure all of your data is in properly formatted csv files with correct file names for:\n",
    "    * `equity_data`\n",
    "    * `carbon_data`\n",
    "2. Make you have a data file in both folders __for each year__ you want to assess \n",
    "3. Make sure you have the latest version of Python and installed all of the third party libraries. Instructions can be found on the README.md file or on the github website.\n",
    "    * fuzzywuzzy\n",
    "    * mpld3\n",
    "4. Make sure your computer isn't running too many other applications that might take away from the performance of the tool\n",
    "\n",
    "### Great, let's run the analysis!\n",
    "The below code cell will perform the analysis. It will generate statements below itself notifying you of the status of the tool and should take around 5-15 seconds for each year of data you have provided.\n",
    "\n",
    "If there are any missing data pieces or errors in formatting, this cell should print out the corresponding error statement.\n",
    "\n",
    "As with any Python program, if there is an error that has not been accounted for, and you see a weird Error output with no instruction, I highly recommend saving your data in another place, deleting the entire tool from your computer, and redownloading a fresh version from the github website. Turning it off and on again works wonders.\n",
    "\n",
    "Go ahead and run the below cell."
   ]
  },
  {
   "cell_type": "code",
   "execution_count": 6,
   "metadata": {},
   "outputs": [
    {
     "name": "stdout",
     "output_type": "stream",
     "text": [
      "Folders Validated\n",
      "All files validated within equity_data\n",
      "All files validated within carbon_data\n",
      "Files validated\n",
      "All data validated within equity_data\n",
      "All data validated within carbon_data\n",
      "Data validated\n",
      "2012 complete...\n",
      "2013 complete...\n",
      "2014 complete...\n"
     ]
    }
   ],
   "source": [
    "# run this code cell to begin matching and assessing fossil fuel investments!\n",
    "%run ./ffequity/ffequity.py"
   ]
  },
  {
   "cell_type": "markdown",
   "metadata": {},
   "source": [
    "## Fossil Fuel Equity Exploration\n",
    "Congratulations! You succesfully completed your share of Part 1 of this tool!\n",
    "\n",
    "Now that the analysis is complete, you can view the outputs manually by going into the `data/assessment/` folder and opening up the .csv files that are stored there.\n",
    "\n",
    "However, this is Benchmark's time to shine! We can ask Benchmark to perform a variety of functions that will give us high level insights into the results of our analysis.\n",
    "\n",
    "First, let's ask Benchmark to tell us how many fossil fuel companies we were invested in per year. Go ahead and run the below cell."
   ]
  },
  {
   "cell_type": "code",
   "execution_count": 7,
   "metadata": {},
   "outputs": [
    {
     "name": "stdout",
     "output_type": "stream",
     "text": [
      "2012\n",
      "You owned investments in 7 fossil fuel companies:\n",
      "Cloud Peak Energy, ConocoPhillips, CONSOL Energy, ENI, Coal India, Royal Dutch Shell, SunCoke Energy\n",
      "\n",
      "2013\n",
      "You owned investments in 6 fossil fuel companies:\n",
      "ConocoPhillips, CONSOL Energy, Foresight Energy, ENI, Coal India, Royal Dutch Shell\n",
      "\n",
      "2014\n",
      "You owned investments in 7 fossil fuel companies:\n",
      "ConocoPhillips, CONSOL Energy, BP, Foresight Energy, ENI, Coal India, Royal Dutch Shell\n",
      "\n"
     ]
    }
   ],
   "source": [
    "# run this cell to have benchmark print out the number and names of fossil fuel companies you owned investments in\n",
    "data = benchmark.get_equity_tables()\n",
    "benchmark.company_names()"
   ]
  },
  {
   "cell_type": "markdown",
   "metadata": {},
   "source": [
    "Now that we have a sense of how many fossil fuel companies we are invested in, let's see how much money we've put into these companies. Run the below cell to have Benchmark show us aggregate investments, split out by fuel type."
   ]
  },
  {
   "cell_type": "code",
   "execution_count": 8,
   "metadata": {},
   "outputs": [
    {
     "data": {
      "text/html": [
       "<div>\n",
       "<style scoped>\n",
       "    .dataframe tbody tr th:only-of-type {\n",
       "        vertical-align: middle;\n",
       "    }\n",
       "\n",
       "    .dataframe tbody tr th {\n",
       "        vertical-align: top;\n",
       "    }\n",
       "\n",
       "    .dataframe thead th {\n",
       "        text-align: right;\n",
       "    }\n",
       "</style>\n",
       "<table border=\"1\" class=\"dataframe\">\n",
       "  <thead>\n",
       "    <tr style=\"text-align: right;\">\n",
       "      <th></th>\n",
       "      <th>Fossil Fuel Equity</th>\n",
       "      <th>Total Individual Equity</th>\n",
       "      <th>Coal Equity</th>\n",
       "      <th>Oil Equity</th>\n",
       "      <th>Gas Equity</th>\n",
       "    </tr>\n",
       "    <tr>\n",
       "      <th>Year</th>\n",
       "      <th></th>\n",
       "      <th></th>\n",
       "      <th></th>\n",
       "      <th></th>\n",
       "      <th></th>\n",
       "    </tr>\n",
       "  </thead>\n",
       "  <tbody>\n",
       "    <tr>\n",
       "      <th>2012</th>\n",
       "      <td>74,142,802.00</td>\n",
       "      <td>2,607,380,240.00</td>\n",
       "      <td>27,185,509.00</td>\n",
       "      <td>25,802,252.83</td>\n",
       "      <td>21,155,040.17</td>\n",
       "    </tr>\n",
       "    <tr>\n",
       "      <th>2013</th>\n",
       "      <td>69,930,824.00</td>\n",
       "      <td>2,626,738,693.00</td>\n",
       "      <td>22,034,387.00</td>\n",
       "      <td>26,318,296.83</td>\n",
       "      <td>21,578,140.17</td>\n",
       "    </tr>\n",
       "    <tr>\n",
       "      <th>2014</th>\n",
       "      <td>84,950,971.00</td>\n",
       "      <td>2,667,326,914.00</td>\n",
       "      <td>21,747,938.00</td>\n",
       "      <td>37,923,096.67</td>\n",
       "      <td>25,279,936.33</td>\n",
       "    </tr>\n",
       "  </tbody>\n",
       "</table>\n",
       "</div>"
      ],
      "text/plain": [
       "      Fossil Fuel Equity  Total Individual Equity   Coal Equity    Oil Equity  \\\n",
       "Year                                                                            \n",
       "2012       74,142,802.00         2,607,380,240.00 27,185,509.00 25,802,252.83   \n",
       "2013       69,930,824.00         2,626,738,693.00 22,034,387.00 26,318,296.83   \n",
       "2014       84,950,971.00         2,667,326,914.00 21,747,938.00 37,923,096.67   \n",
       "\n",
       "        Gas Equity  \n",
       "Year                \n",
       "2012 21,155,040.17  \n",
       "2013 21,578,140.17  \n",
       "2014 25,279,936.33  "
      ]
     },
     "execution_count": 8,
     "metadata": {},
     "output_type": "execute_result"
    }
   ],
   "source": [
    "#run this cell to see how much money was invested per year by fuel type\n",
    "aggregateTable = benchmark.aggregate_equity_table()\n",
    "aggregateTable"
   ]
  },
  {
   "cell_type": "markdown",
   "metadata": {},
   "source": [
    "The above table shows the total number of dollars invested across all fossil fuel companies under `Fossil Fuel Equity`. It also breaks out fossil fuel investment dollars by the types of companies the are invested in; `Coal Equity` represents the total investment in coal companies, and the same is true for `Oil Equity` and `Gas Equity`. `Total Individual Equity` shows you the total dollars invested in all types of companies, not just fossil fuels.\n",
    "\n",
    "Now that we've looked at the numbers, let's make some charts! You may zoom in and out of this notebook like you would any webpage, in case you'd like to make it larger. You may also save any of these output charts as image files by right clicking on the chart.\n",
    "\n",
    "### Total Dollars Invested in Fossil Fuel Companies\n",
    "Run the below code cell to tell Benchmark to show us the total amount of dollars invested in fossil fuel companies by year in the form of a bar chart."
   ]
  },
  {
   "cell_type": "code",
   "execution_count": 9,
   "metadata": {
    "scrolled": true
   },
   "outputs": [
    {
     "data": {
      "image/png": "[encoded data removed]",
      "text/plain": [
       "<Figure size 432x288 with 1 Axes>"
      ]
     },
     "metadata": {},
     "output_type": "display_data"
    }
   ],
   "source": [
    "# run this cell to see the total amount of investments in fossil fuel companies\n",
    "benchmark.plot_fossil_fuel_equity()"
   ]
  },
  {
   "cell_type": "markdown",
   "metadata": {},
   "source": [
    "### Total Dollars Invested by Fuel Type\n",
    "Run the below code cell to tell Benchmark to show us the previous bar chart, but segemented by fuel type. For example, the `Coal` color represents the amount of dollars invested in coal companies only."
   ]
  },
  {
   "cell_type": "code",
   "execution_count": 10,
   "metadata": {},
   "outputs": [
    {
     "data": {
      "image/png": "[encoded data removed]",
      "text/plain": [
       "<Figure size 432x288 with 1 Axes>"
      ]
     },
     "metadata": {},
     "output_type": "display_data"
    }
   ],
   "source": [
    "# # run this cell to see the total amount of investments in fossil fuel companies by fuel type\n",
    "benchmark.plot_fossil_fuel_equity_fuel_types()"
   ]
  },
  {
   "cell_type": "markdown",
   "metadata": {},
   "source": [
    "### The tool pauses here, please continue if you have additional time and interest in exploring the embedded greenhouse gas emissions associated with your investments in fossil fuel companies."
   ]
  },
  {
   "cell_type": "markdown",
   "metadata": {},
   "source": [
    "# Part 2: Allocating Carbon Reserves by Investment\n",
    "Welcome to Part 2 of the tool! Now that we've explored the dollar amounts that are invested in fossil fuel companies, we can start to examine how these investments translate into contributions to climate change. There are many ways to assess the impact of fossil fuel investments, however this tool was designed to perform a fair-share analysis.\n",
    "\n",
    "## Fair Share Analysis\n",
    "A fair share analysis examines equity at face-value. Equity is a representation of a portion of ownership in a particular company. This ownership is most often affiliated with entitlement to profits, but it also extends to ownership of a portion of assets in a company. The example of fossil fuel extraction companies is interestingly enough a simple one: the assets in a fossil fuel extraction company are largely comprised of fossil fuels (coal, oil, natural gas).\n",
    "\n",
    "We need to know three things in order to perform a fair share analysis: the total carbon reserves a company has listed, the number of dollars invested in that company, and the total market worth of that company. We have the first two, these were gathered and prepared in Part 1. However, we still need the total market worth of each company we want to examine.\n",
    "\n",
    "The analysis itself follows this formula:\n",
    "\n",
    "$$ IC_c = I_c * (C_c / M_c) $$\n",
    "Where $IC_c$ is the carbon reserves of a company that the equity is invested in, $I_c$ is the dollar investment in the company, $C_c$ is the entirety of the listed carbon reserves of that company, and $M_c$ is the market capitalization of that company.\n",
    "\n",
    "### financial_data\n",
    "In Part 2, you will be researching market capitalization (or total worth of a company) values online and manually entering them into the data files that were saved by the tool in `data/financial_data/` from Part 1. The tool narrowed down the search for you as you will only be researching the market capitalization values for fossil fuel companies you have investments in. The data files in `data/financial_data/` should be formatted correctly and named per year. Your only formatting job is to ensure that you enter market capitalization values in units of Billions USD with appropriate decimal placement.\n",
    "\n",
    "For reference: 1.5 Trillion dollars is equivalent to 1500 Billion dollars and 250 Million dollars is equivalent to .25 Billion dollars.\n",
    "\n",
    "### Finding Market Cap Values Online\n",
    "You can go to multiple websites to try and find the present day market cap value of your companies. Since historical market cap values are hard to find, it is alright to use present day market cap values of your companies This tool was built with the understanding that you may not have 1-4 hours to find all of the market cap values for your target fossil fuel companies. This tool will only match and assess fossil fuel equity for each company that has a Market Cap value in `financial_data` for a given year. \n",
    "\n",
    "For example, if you only had time to find market cap values for 10 of your target carbon companies, then the tool will only look for matches within those 10. All of the tables and visualiztions will be generated as long as you have equity in at least one of those 10 companies. If the tool does not find a match, it will not output any results.\n",
    "\n",
    "This means that the more financial data you manually enter, the more accurate the output of the tool will be.\n",
    "\n",
    "I've included images of where to find market capitalization values on two different websites below:\n",
    "\n",
    "#### Yahoo Finance - Market Cap Circled In Red\n",
    "<img src=\"img/yahoofinancebp.png\" alt=\"Drawing\" style=\"width: 750px;\"/>\n",
    "\n",
    "#### Google Finance - Market Cap Highlighted\n",
    "<img src=\"img/googlefinancechevron.png\" alt=\"Drawing\" style=\"width: 750px;\"/>\n",
    "\n",
    "### Data Formatting\n",
    "For .csv files stored in the `financial_data` folder, please make sure they are formatted with two columns titled and data typed as follows:\n",
    "* __Company__ containing data with letters and numbers representing the names of fossil fuel companies. __These company names should exactly match the Company(Company) data values in your carbon_data files!__\n",
    "* __MarketCap(B)__ containing data with with numbers only representing the market capitalization value of each company in billions of USD. If the company is valued in the millions or trillions, please convert to billions for this field.\n",
    "\n",
    "Please keep each year's worth of equity data in a separate .csv file and make sure they are named according to the following naming convention:\n",
    "* `YYYYFilename.csv`\n",
    "* Note: The only requirement for financial_data filenames is to lead each name with a four digit prefix representing the year that the data file examines, not the year you acquired the data.\n",
    "\n",
    "## Important!\n",
    "Once you have completed your market cap research and saved the data in the files in `data/financial/` __DO NOT RE-RUN THE CELL WITH__ `%run ffequity/ffequity.py`__!__\n",
    "\n",
    "Doing so will overwrite your hard-earned data files with versions with just names of companies and you will lose the data you entered. Just to be safe, I recommend saving completed versions of the files in another place, `data/raw_data/` is a good spot if you can't think of one."
   ]
  },
  {
   "cell_type": "markdown",
   "metadata": {},
   "source": [
    "## CHECKPOINT\n",
    "1. Make sure all of your data is in properly formatted csv files with correct file names for:\n",
    "    * `financial_data`\n",
    "2. Make sure you haven't saved any changes to the outputs of Part 1, stored in `data/assessment/`.\n",
    "3. Make sure your computer isn't running too many other applications that might take away from the performance of the tool.\n",
    "\n",
    "Great! Go ahead and run the below code cell to perform the fair share analysis."
   ]
  },
  {
   "cell_type": "code",
   "execution_count": 11,
   "metadata": {},
   "outputs": [
    {
     "name": "stdout",
     "output_type": "stream",
     "text": [
      "Folders Validated\n",
      "All files validated within assessment\n",
      "All files validated within financial_data\n",
      "Files validated\n",
      "All data validated within assessment\n",
      "All data validated within financial_data\n",
      "Data validated\n",
      "Congratulations, the tool has completed the analysis!\n"
     ]
    },
    {
     "name": "stderr",
     "output_type": "stream",
     "text": [
      "C:\\Users\\jdunn\\AppData\\Local\\Continuum\\anaconda3\\lib\\site-packages\\pandas\\core\\frame.py:6201: FutureWarning: Sorting because non-concatenation axis is not aligned. A future version\n",
      "of pandas will change to not sort by default.\n",
      "\n",
      "To accept the future behavior, pass 'sort=True'.\n",
      "\n",
      "To retain the current behavior and silence the warning, pass sort=False\n",
      "\n",
      "  sort=sort)\n"
     ]
    },
    {
     "data": {
      "text/plain": [
       "<Figure size 432x288 with 0 Axes>"
      ]
     },
     "metadata": {},
     "output_type": "display_data"
    }
   ],
   "source": [
    "# run this cell to perform the fair share analysis\n",
    "%run ./ffequity/fairshare.py"
   ]
  },
  {
   "cell_type": "markdown",
   "metadata": {},
   "source": [
    "## Fair Share Portion of Carbon Reserves Exploration\n",
    "Congratulations! You've successfully completed Part 2 of the tool!\n",
    "\n",
    "Now that the fair share analysis is complete, you can examine the outputs of the assessment in `data/benchmarks/`. We can also use Benchmark!\n",
    "\n",
    "First, let's ask Benchmark to show us how many greenhouse gas emissions (in tCO2e) are embedded in the carbon reserves that are \"owned\" by investments in fossil fuel companies. Go ahead and run the below code cell."
   ]
  },
  {
   "cell_type": "code",
   "execution_count": 12,
   "metadata": {},
   "outputs": [
    {
     "data": {
      "text/html": [
       "<div>\n",
       "<style scoped>\n",
       "    .dataframe tbody tr th:only-of-type {\n",
       "        vertical-align: middle;\n",
       "    }\n",
       "\n",
       "    .dataframe tbody tr th {\n",
       "        vertical-align: top;\n",
       "    }\n",
       "\n",
       "    .dataframe thead th {\n",
       "        text-align: right;\n",
       "    }\n",
       "</style>\n",
       "<table border=\"1\" class=\"dataframe\">\n",
       "  <thead>\n",
       "    <tr style=\"text-align: right;\">\n",
       "      <th></th>\n",
       "      <th>Fossil Fuel Equity</th>\n",
       "      <th>Total Individual Equity</th>\n",
       "      <th>Coal Equity</th>\n",
       "      <th>Oil Equity</th>\n",
       "      <th>Gas Equity</th>\n",
       "      <th>Coal Reserves (tCO2)</th>\n",
       "      <th>Oil Reserves (tCO2)</th>\n",
       "      <th>Gas Reserves (tCO2)</th>\n",
       "      <th>Total Reserves (tCO2)</th>\n",
       "    </tr>\n",
       "    <tr>\n",
       "      <th>Year</th>\n",
       "      <th></th>\n",
       "      <th></th>\n",
       "      <th></th>\n",
       "      <th></th>\n",
       "      <th></th>\n",
       "      <th></th>\n",
       "      <th></th>\n",
       "      <th></th>\n",
       "      <th></th>\n",
       "    </tr>\n",
       "  </thead>\n",
       "  <tbody>\n",
       "    <tr>\n",
       "      <th>2012</th>\n",
       "      <td>74,142,802.00</td>\n",
       "      <td>2,607,380,240.00</td>\n",
       "      <td>27,185,509.00</td>\n",
       "      <td>25,802,252.83</td>\n",
       "      <td>21,155,040.17</td>\n",
       "      <td>12,583,695.19</td>\n",
       "      <td>576,474.14</td>\n",
       "      <td>404,355.15</td>\n",
       "      <td>13,564,524.47</td>\n",
       "    </tr>\n",
       "    <tr>\n",
       "      <th>2013</th>\n",
       "      <td>69,930,824.00</td>\n",
       "      <td>2,626,738,693.00</td>\n",
       "      <td>22,034,387.00</td>\n",
       "      <td>26,318,296.83</td>\n",
       "      <td>21,578,140.17</td>\n",
       "      <td>9,040,457.94</td>\n",
       "      <td>588,003.59</td>\n",
       "      <td>412,442.23</td>\n",
       "      <td>10,040,903.77</td>\n",
       "    </tr>\n",
       "    <tr>\n",
       "      <th>2014</th>\n",
       "      <td>84,950,971.00</td>\n",
       "      <td>2,667,326,914.00</td>\n",
       "      <td>21,747,938.00</td>\n",
       "      <td>37,923,096.67</td>\n",
       "      <td>25,279,936.33</td>\n",
       "      <td>7,631,766.58</td>\n",
       "      <td>890,669.62</td>\n",
       "      <td>510,517.16</td>\n",
       "      <td>9,032,953.36</td>\n",
       "    </tr>\n",
       "  </tbody>\n",
       "</table>\n",
       "</div>"
      ],
      "text/plain": [
       "      Fossil Fuel Equity  Total Individual Equity   Coal Equity    Oil Equity  \\\n",
       "Year                                                                            \n",
       "2012       74,142,802.00         2,607,380,240.00 27,185,509.00 25,802,252.83   \n",
       "2013       69,930,824.00         2,626,738,693.00 22,034,387.00 26,318,296.83   \n",
       "2014       84,950,971.00         2,667,326,914.00 21,747,938.00 37,923,096.67   \n",
       "\n",
       "        Gas Equity  Coal Reserves (tCO2)  Oil Reserves (tCO2)  \\\n",
       "Year                                                            \n",
       "2012 21,155,040.17         12,583,695.19           576,474.14   \n",
       "2013 21,578,140.17          9,040,457.94           588,003.59   \n",
       "2014 25,279,936.33          7,631,766.58           890,669.62   \n",
       "\n",
       "      Gas Reserves (tCO2)  Total Reserves (tCO2)  \n",
       "Year                                              \n",
       "2012           404,355.15          13,564,524.47  \n",
       "2013           412,442.23          10,040,903.77  \n",
       "2014           510,517.16           9,032,953.36  "
      ]
     },
     "execution_count": 12,
     "metadata": {},
     "output_type": "execute_result"
    }
   ],
   "source": [
    "# run this code cell to aggregate equity and reserves by fuel type by year\n",
    "data = benchmark.get_tables()\n",
    "aggregateTable = benchmark.aggregate_table()\n",
    "aggregateTable"
   ]
  },
  {
   "cell_type": "markdown",
   "metadata": {},
   "source": [
    "The above table is an extension from the previous aggregate table we saw in Part 1. In addition to examining dollars invested by fuel type, this table examines the total number of embedded emissions in carbon reserves by fuel type.\n",
    "\n",
    "### Examining companies by largest investments and/or reserves\n",
    "We can ask Benchmark to dive a little deeper and look at these investments and reserve holdings on a company by company basis. In order to do so, we need to tell Benchmark what exactly we're looking for and how much of it we want to see. The below code cell contains two variables that you can edit.\n",
    "\n",
    "`chosen` will be the metric you are interested in. It will tell Benchmark how to sort the companies. You can sort companies by:\n",
    "* `\"EMV\"` - the dollar value of the investment in the company\n",
    "* `\"COAL\"` - the carbon dioxide emissions embedded in your fair-share of the company's coal reserves\n",
    "* `\"OIL\"` - the carbon dioxide emissions embedded in your fair-share of the company's coal reserves\n",
    "* `\"GAS\"` - the carbon dioxide emissions embedded in your fair-share of the company's coal reserves\n",
    "\n",
    "Go ahead and change `chosen` to any of these four options. Remember to use all capital letters and to keep your selection enclosed in `\"\"`.\n",
    "\n",
    "`numberOfRows` will be the number of companies you want to limit Benchmark showing you. It can be any whole number, but defaults to 5.\n",
    "\n",
    "When the tables display, ignore the numbers on the far left. They don't mean anything for our purposes. If you want to find the 3rd largest of something, it will show up in the 3rd row."
   ]
  },
  {
   "cell_type": "code",
   "execution_count": 13,
   "metadata": {},
   "outputs": [],
   "source": [
    "# you may edit these two variables as per the instructions above, or leave them as they are\n",
    "chosen = \"COAL\" # edit this\n",
    "numberOfRows = 5 # edit this"
   ]
  },
  {
   "cell_type": "code",
   "execution_count": 14,
   "metadata": {},
   "outputs": [
    {
     "name": "stdout",
     "output_type": "stream",
     "text": [
      "Top 5 sorted by Coal(tCO2) for 2012\n"
     ]
    },
    {
     "data": {
      "text/html": [
       "<div>\n",
       "<style scoped>\n",
       "    .dataframe tbody tr th:only-of-type {\n",
       "        vertical-align: middle;\n",
       "    }\n",
       "\n",
       "    .dataframe tbody tr th {\n",
       "        vertical-align: top;\n",
       "    }\n",
       "\n",
       "    .dataframe thead th {\n",
       "        text-align: right;\n",
       "    }\n",
       "</style>\n",
       "<table border=\"1\" class=\"dataframe\">\n",
       "  <thead>\n",
       "    <tr style=\"text-align: right;\">\n",
       "      <th></th>\n",
       "      <th>Company(Company)</th>\n",
       "      <th>Coal(tCO2)</th>\n",
       "      <th>Oil(tCO2)</th>\n",
       "      <th>Gas(tCO2)</th>\n",
       "      <th>EndingMarketValue</th>\n",
       "    </tr>\n",
       "  </thead>\n",
       "  <tbody>\n",
       "    <tr>\n",
       "      <th>2</th>\n",
       "      <td>SunCoke Energy</td>\n",
       "      <td>6,573,636.25</td>\n",
       "      <td>0.00</td>\n",
       "      <td>0.00</td>\n",
       "      <td>5,258,909.00</td>\n",
       "    </tr>\n",
       "    <tr>\n",
       "      <th>0</th>\n",
       "      <td>CONSOL Energy</td>\n",
       "      <td>5,383,362.16</td>\n",
       "      <td>0.00</td>\n",
       "      <td>0.00</td>\n",
       "      <td>9,959,220.00</td>\n",
       "    </tr>\n",
       "    <tr>\n",
       "      <th>5</th>\n",
       "      <td>Cloud Peak Energy</td>\n",
       "      <td>457,843.57</td>\n",
       "      <td>0.00</td>\n",
       "      <td>0.00</td>\n",
       "      <td>4,959,972.00</td>\n",
       "    </tr>\n",
       "    <tr>\n",
       "      <th>1</th>\n",
       "      <td>Coal India</td>\n",
       "      <td>168,853.20</td>\n",
       "      <td>0.00</td>\n",
       "      <td>0.00</td>\n",
       "      <td>7,007,408.00</td>\n",
       "    </tr>\n",
       "    <tr>\n",
       "      <th>3</th>\n",
       "      <td>ENI</td>\n",
       "      <td>0.00</td>\n",
       "      <td>50,622.01</td>\n",
       "      <td>50,622.01</td>\n",
       "      <td>3,594,163.00</td>\n",
       "    </tr>\n",
       "  </tbody>\n",
       "</table>\n",
       "</div>"
      ],
      "text/plain": [
       "    Company(Company)   Coal(tCO2)  Oil(tCO2)  Gas(tCO2)  EndingMarketValue\n",
       "2     SunCoke Energy 6,573,636.25       0.00       0.00       5,258,909.00\n",
       "0      CONSOL Energy 5,383,362.16       0.00       0.00       9,959,220.00\n",
       "5  Cloud Peak Energy   457,843.57       0.00       0.00       4,959,972.00\n",
       "1         Coal India   168,853.20       0.00       0.00       7,007,408.00\n",
       "3                ENI         0.00  50,622.01  50,622.01       3,594,163.00"
      ]
     },
     "metadata": {},
     "output_type": "display_data"
    },
    {
     "name": "stdout",
     "output_type": "stream",
     "text": [
      "Top 5 sorted by Coal(tCO2) for 2013\n"
     ]
    },
    {
     "data": {
      "text/html": [
       "<div>\n",
       "<style scoped>\n",
       "    .dataframe tbody tr th:only-of-type {\n",
       "        vertical-align: middle;\n",
       "    }\n",
       "\n",
       "    .dataframe tbody tr th {\n",
       "        vertical-align: top;\n",
       "    }\n",
       "\n",
       "    .dataframe thead th {\n",
       "        text-align: right;\n",
       "    }\n",
       "</style>\n",
       "<table border=\"1\" class=\"dataframe\">\n",
       "  <thead>\n",
       "    <tr style=\"text-align: right;\">\n",
       "      <th></th>\n",
       "      <th>Company(Company)</th>\n",
       "      <th>Coal(tCO2)</th>\n",
       "      <th>Oil(tCO2)</th>\n",
       "      <th>Gas(tCO2)</th>\n",
       "      <th>EndingMarketValue</th>\n",
       "    </tr>\n",
       "  </thead>\n",
       "  <tbody>\n",
       "    <tr>\n",
       "      <th>2</th>\n",
       "      <td>Foresight Energy</td>\n",
       "      <td>4,728,427.00</td>\n",
       "      <td>0.00</td>\n",
       "      <td>0.00</td>\n",
       "      <td>4,728,427.00</td>\n",
       "    </tr>\n",
       "    <tr>\n",
       "      <th>0</th>\n",
       "      <td>CONSOL Energy</td>\n",
       "      <td>4,118,271.89</td>\n",
       "      <td>0.00</td>\n",
       "      <td>0.00</td>\n",
       "      <td>10,158,404.00</td>\n",
       "    </tr>\n",
       "    <tr>\n",
       "      <th>1</th>\n",
       "      <td>Coal India</td>\n",
       "      <td>193,759.05</td>\n",
       "      <td>0.00</td>\n",
       "      <td>0.00</td>\n",
       "      <td>7,147,556.00</td>\n",
       "    </tr>\n",
       "    <tr>\n",
       "      <th>3</th>\n",
       "      <td>ENI</td>\n",
       "      <td>0.00</td>\n",
       "      <td>51,634.45</td>\n",
       "      <td>51,634.45</td>\n",
       "      <td>3,666,046.00</td>\n",
       "    </tr>\n",
       "    <tr>\n",
       "      <th>4</th>\n",
       "      <td>ConocoPhillips</td>\n",
       "      <td>0.00</td>\n",
       "      <td>351,122.72</td>\n",
       "      <td>175,561.36</td>\n",
       "      <td>14,220,470.00</td>\n",
       "    </tr>\n",
       "  </tbody>\n",
       "</table>\n",
       "</div>"
      ],
      "text/plain": [
       "   Company(Company)   Coal(tCO2)  Oil(tCO2)  Gas(tCO2)  EndingMarketValue\n",
       "2  Foresight Energy 4,728,427.00       0.00       0.00       4,728,427.00\n",
       "0     CONSOL Energy 4,118,271.89       0.00       0.00      10,158,404.00\n",
       "1        Coal India   193,759.05       0.00       0.00       7,147,556.00\n",
       "3               ENI         0.00  51,634.45  51,634.45       3,666,046.00\n",
       "4    ConocoPhillips         0.00 351,122.72 175,561.36      14,220,470.00"
      ]
     },
     "metadata": {},
     "output_type": "display_data"
    },
    {
     "name": "stdout",
     "output_type": "stream",
     "text": [
      "Top 5 sorted by Coal(tCO2) for 2014\n"
     ]
    },
    {
     "data": {
      "text/html": [
       "<div>\n",
       "<style scoped>\n",
       "    .dataframe tbody tr th:only-of-type {\n",
       "        vertical-align: middle;\n",
       "    }\n",
       "\n",
       "    .dataframe tbody tr th {\n",
       "        vertical-align: top;\n",
       "    }\n",
       "\n",
       "    .dataframe thead th {\n",
       "        text-align: right;\n",
       "    }\n",
       "</style>\n",
       "<table border=\"1\" class=\"dataframe\">\n",
       "  <thead>\n",
       "    <tr style=\"text-align: right;\">\n",
       "      <th></th>\n",
       "      <th>Company(Company)</th>\n",
       "      <th>Coal(tCO2)</th>\n",
       "      <th>Oil(tCO2)</th>\n",
       "      <th>Gas(tCO2)</th>\n",
       "      <th>EndingMarketValue</th>\n",
       "    </tr>\n",
       "  </thead>\n",
       "  <tbody>\n",
       "    <tr>\n",
       "      <th>2</th>\n",
       "      <td>Foresight Energy</td>\n",
       "      <td>4,666,957.00</td>\n",
       "      <td>0.00</td>\n",
       "      <td>0.00</td>\n",
       "      <td>4,666,957.00</td>\n",
       "    </tr>\n",
       "    <tr>\n",
       "      <th>0</th>\n",
       "      <td>CONSOL Energy</td>\n",
       "      <td>2,709,822.70</td>\n",
       "      <td>0.00</td>\n",
       "      <td>0.00</td>\n",
       "      <td>10,026,344.00</td>\n",
       "    </tr>\n",
       "    <tr>\n",
       "      <th>1</th>\n",
       "      <td>Coal India</td>\n",
       "      <td>254,986.88</td>\n",
       "      <td>0.00</td>\n",
       "      <td>0.00</td>\n",
       "      <td>7,054,637.00</td>\n",
       "    </tr>\n",
       "    <tr>\n",
       "      <th>3</th>\n",
       "      <td>BP</td>\n",
       "      <td>0.00</td>\n",
       "      <td>310,310.10</td>\n",
       "      <td>103,436.70</td>\n",
       "      <td>15,929,252.00</td>\n",
       "    </tr>\n",
       "    <tr>\n",
       "      <th>4</th>\n",
       "      <td>ENI</td>\n",
       "      <td>0.00</td>\n",
       "      <td>50,963.20</td>\n",
       "      <td>50,963.20</td>\n",
       "      <td>3,618,387.00</td>\n",
       "    </tr>\n",
       "  </tbody>\n",
       "</table>\n",
       "</div>"
      ],
      "text/plain": [
       "   Company(Company)   Coal(tCO2)  Oil(tCO2)  Gas(tCO2)  EndingMarketValue\n",
       "2  Foresight Energy 4,666,957.00       0.00       0.00       4,666,957.00\n",
       "0     CONSOL Energy 2,709,822.70       0.00       0.00      10,026,344.00\n",
       "1        Coal India   254,986.88       0.00       0.00       7,054,637.00\n",
       "3                BP         0.00 310,310.10 103,436.70      15,929,252.00\n",
       "4               ENI         0.00  50,963.20  50,963.20       3,618,387.00"
      ]
     },
     "metadata": {},
     "output_type": "display_data"
    }
   ],
   "source": [
    "# run this code cell to examine investments at a company leve\n",
    "benchmark.show_top(rows=numberOfRows, sort=chosen)"
   ]
  },
  {
   "cell_type": "markdown",
   "metadata": {},
   "source": [
    "Now that we've looked at the numbers, let's make some charts! You may zoom in and out of this notebook like you would any webpage, in case you'd like to make it larger. You may also save any of these output charts as image files by right clicking on the chart.\n",
    "\n",
    "### Total Held Carbon Reserves\n",
    "\n",
    "Run the below cell to tell Benchmark to show us the emissions embedded in our fair-share of the carbon reserves for the fossil fuel companies we are invested in via a bar chart.\n",
    "\n",
    "For comparison, 1,000,000 tonnes of CO2 is equal to the emissions of electricity usage in 100,000 United States households for one year and the amount of carbon absorbed by 800,000 acres of pine trees in one year. [More 1MT CO2e conversions](https://www.arb.ca.gov/cc/factsheets/1mmtconversion.pdf)"
   ]
  },
  {
   "cell_type": "code",
   "execution_count": 15,
   "metadata": {},
   "outputs": [
    {
     "data": {
      "image/png": "[encoded data removed]",
      "text/plain": [
       "<Figure size 432x288 with 1 Axes>"
      ]
     },
     "metadata": {},
     "output_type": "display_data"
    }
   ],
   "source": [
    "# run this cell to see the total amount of owned reserves from fossil fuel investments\n",
    "benchmark.plot_reserves()"
   ]
  },
  {
   "cell_type": "markdown",
   "metadata": {},
   "source": [
    "### Total Held Carbon Reserves by Fuel Type\n",
    "Run the below cell to tell Benchmark to show us the emissions embedded in our fair-share of the carbon reserves for the fossil fuel companeis we are invested in, broken out by fuel type.\n",
    "\n",
    "Do you note any differences in the distribution of emissions by fuel type compared to the distribution of invested dollars in the earlier table? You might see `Coal` comprising a larger breakdown of the carbon reserves than it's share of invested dollars; this is because coal is a much dirtier energy source than oil or natural gas."
   ]
  },
  {
   "cell_type": "code",
   "execution_count": 16,
   "metadata": {},
   "outputs": [
    {
     "data": {
      "image/png": "[encoded data removed]",
      "text/plain": [
       "<Figure size 432x288 with 1 Axes>"
      ]
     },
     "metadata": {},
     "output_type": "display_data"
    }
   ],
   "source": [
    "# run this cell to see the total amount of owned reserves from fossil fuel investments by fuel type\n",
    "benchmark.plot_reserves_fuel_type()"
   ]
  },
  {
   "cell_type": "markdown",
   "metadata": {},
   "source": [
    "### The tool pauses here, please continue if you have additional time and interest in exploring the distribution of companies by your portfolio's investment and owned reserves."
   ]
  },
  {
   "cell_type": "markdown",
   "metadata": {},
   "source": [
    "# Part 3: Identifying Opportunities for Action\n",
    "This part is currently under development."
   ]
  },
  {
   "cell_type": "code",
   "execution_count": null,
   "metadata": {},
   "outputs": [],
   "source": []
  }
 ],
 "metadata": {
  "kernelspec": {
   "display_name": "Python 3",
   "language": "python",
   "name": "python3"
  },
  "language_info": {
   "codemirror_mode": {
    "name": "ipython",
    "version": 3
   },
   "file_extension": ".py",
   "mimetype": "text/x-python",
   "name": "python",
   "nbconvert_exporter": "python",
   "pygments_lexer": "ipython3",
   "version": "3.6.5"
  }
 },
 "nbformat": 4,
 "nbformat_minor": 2
}
