{
 "cells": [
  {
   "cell_type": "code",
   "execution_count": 1,
   "metadata": {
    "collapsed": true
   },
   "outputs": [],
   "source": [
    "# numpy and pandas are fundamental data processing libraries for Python\n",
    "import numpy as np\n",
    "import pandas as pd\n",
    "\n",
    "# this line tells the notebook to display all numbers with 2 floating decimal places and commas separating thousands\n",
    "pd.options.display.float_format = '{:,.2f}'.format\n",
    "\n",
    "# matplotlib is a data visualization library for Python\n",
    "import matplotlib.pyplot as plt\n",
    "\n",
    "# these lines tell the notebook to show you the visualizations within the notebook using the \"Seaborn\" style\n",
    "# https://seaborn.pydata.org/\n",
    "%matplotlib inline\n",
    "plt.style.use('seaborn-notebook')\n",
    "plt.rcParams['figure.figsize'] = [12, 6]\n",
    "\n",
    "# this line will let the notebook show you images\n",
    "from IPython.display import Image"
   ]
  },
  {
   "cell_type": "code",
   "execution_count": 2,
   "metadata": {
    "collapsed": true
   },
   "outputs": [],
   "source": [
    "# modify the years in this list to reflect the entirety of your data and run this cell to store the values\n",
    "years = [\"2012\", \"2013\", \"2014\", \"2016\"] # edit this\n",
    "# this cell creates a Benchmark object that will perform the visualizations inline\n",
    "from ffequity.processors.benchmark import Benchmark\n",
    "benchmark = Benchmark(years)"
   ]
  },
  {
   "cell_type": "code",
   "execution_count": null,
   "metadata": {},
   "outputs": [],
   "source": [
    "# run this code cell to begin matching and assessing fossil fuel investments!\n",
    "# i expect this cell to match carbon companies to stock equity and write out those company names\n",
    "%run ./ffequity/ffequity.py"
   ]
  },
  {
   "cell_type": "code",
   "execution_count": 3,
   "metadata": {},
   "outputs": [
    {
     "name": "stdout",
     "output_type": "stream",
     "text": [
      "2012\n",
      "You owned investments in 7 fossil fuel companies:\n",
      "Coal India, ConocoPhillips, CONSOL Energy, SunCoke Energy, Cloud Peak Energy, ENI, Royal Dutch Shell\n",
      "\n",
      "2013\n",
      "You owned investments in 6 fossil fuel companies:\n",
      "Coal India, ConocoPhillips, CONSOL Energy, ENI, Royal Dutch Shell, Foresight Energy\n",
      "\n",
      "2014\n",
      "You owned investments in 7 fossil fuel companies:\n",
      "BP, Coal India, ConocoPhillips, CONSOL Energy, ENI, Royal Dutch Shell, Foresight Energy\n",
      "\n",
      "2016\n",
      "You owned investments in 5 fossil fuel companies:\n",
      "BP, CONSOL Energy, Royal Dutch Shell, Arch Coal, Foresight Energy\n",
      "\n"
     ]
    }
   ],
   "source": [
    "# benchmark will now do the aggregate tables and visualizations on the equity portion of the data\n",
    "data = benchmark.get_equity_tables()\n",
    "benchmark.company_names()"
   ]
  },
  {
   "cell_type": "code",
   "execution_count": 4,
   "metadata": {},
   "outputs": [
    {
     "data": {
      "text/html": [
       "<div>\n",
       "<style>\n",
       "    .dataframe thead tr:only-child th {\n",
       "        text-align: right;\n",
       "    }\n",
       "\n",
       "    .dataframe thead th {\n",
       "        text-align: left;\n",
       "    }\n",
       "\n",
       "    .dataframe tbody tr th {\n",
       "        vertical-align: top;\n",
       "    }\n",
       "</style>\n",
       "<table border=\"1\" class=\"dataframe\">\n",
       "  <thead>\n",
       "    <tr style=\"text-align: right;\">\n",
       "      <th></th>\n",
       "      <th>Fossil Fuel Equity</th>\n",
       "      <th>Total Individual Equity</th>\n",
       "      <th>Coal Equity</th>\n",
       "      <th>Oil Equity</th>\n",
       "      <th>Gas Equity</th>\n",
       "    </tr>\n",
       "    <tr>\n",
       "      <th>Year</th>\n",
       "      <th></th>\n",
       "      <th></th>\n",
       "      <th></th>\n",
       "      <th></th>\n",
       "      <th></th>\n",
       "    </tr>\n",
       "  </thead>\n",
       "  <tbody>\n",
       "    <tr>\n",
       "      <th>2012</th>\n",
       "      <td>74,142,802.00</td>\n",
       "      <td>2,607,380,240.00</td>\n",
       "      <td>27,185,509.00</td>\n",
       "      <td>25,802,252.83</td>\n",
       "      <td>21,155,040.17</td>\n",
       "    </tr>\n",
       "    <tr>\n",
       "      <th>2013</th>\n",
       "      <td>69,930,824.00</td>\n",
       "      <td>2,626,738,693.00</td>\n",
       "      <td>22,034,387.00</td>\n",
       "      <td>26,318,296.83</td>\n",
       "      <td>21,578,140.17</td>\n",
       "    </tr>\n",
       "    <tr>\n",
       "      <th>2014</th>\n",
       "      <td>84,950,971.00</td>\n",
       "      <td>2,667,326,914.00</td>\n",
       "      <td>21,747,938.00</td>\n",
       "      <td>37,923,096.67</td>\n",
       "      <td>25,279,936.33</td>\n",
       "    </tr>\n",
       "    <tr>\n",
       "      <th>2016</th>\n",
       "      <td>64,605,098.00</td>\n",
       "      <td>2,579,529,935.00</td>\n",
       "      <td>20,878,019.00</td>\n",
       "      <td>24,225,371.95</td>\n",
       "      <td>19,501,707.05</td>\n",
       "    </tr>\n",
       "  </tbody>\n",
       "</table>\n",
       "</div>"
      ],
      "text/plain": [
       "      Fossil Fuel Equity  Total Individual Equity   Coal Equity    Oil Equity  \\\n",
       "Year                                                                            \n",
       "2012       74,142,802.00         2,607,380,240.00 27,185,509.00 25,802,252.83   \n",
       "2013       69,930,824.00         2,626,738,693.00 22,034,387.00 26,318,296.83   \n",
       "2014       84,950,971.00         2,667,326,914.00 21,747,938.00 37,923,096.67   \n",
       "2016       64,605,098.00         2,579,529,935.00 20,878,019.00 24,225,371.95   \n",
       "\n",
       "        Gas Equity  \n",
       "Year                \n",
       "2012 21,155,040.17  \n",
       "2013 21,578,140.17  \n",
       "2014 25,279,936.33  \n",
       "2016 19,501,707.05  "
      ]
     },
     "execution_count": 4,
     "metadata": {},
     "output_type": "execute_result"
    }
   ],
   "source": [
    "# benchmark will now show an aggregate equity table, duplicate companies will need to be accounted for \n",
    "#this code cell aggregates equity and reserves by fuel type by year\n",
    "aggregateTable = benchmark.aggregate_equity_table()\n",
    "aggregateTable"
   ]
  },
  {
   "cell_type": "code",
   "execution_count": null,
   "metadata": {
    "collapsed": true
   },
   "outputs": [],
   "source": [
    "# total dollars invested in fossil fuels\n",
    "# run this cell to see the total amount of investments in fossil fuel companies\n",
    "benchmark.plot_fossil_fuel_equity()"
   ]
  },
  {
   "cell_type": "code",
   "execution_count": null,
   "metadata": {},
   "outputs": [],
   "source": [
    "# now the user will manually input the market caps\n",
    "# then will run this code cell to do the fair share allocation\n",
    "# i expect this cell to match financial rows to the master df and run the analysis\n",
    "%run ./ffequity/fairshare.py"
   ]
  },
  {
   "cell_type": "code",
   "execution_count": null,
   "metadata": {},
   "outputs": [],
   "source": []
  },
  {
   "cell_type": "code",
   "execution_count": null,
   "metadata": {
    "collapsed": true
   },
   "outputs": [],
   "source": []
  }
 ],
 "metadata": {
  "kernelspec": {
   "display_name": "Python 3",
   "language": "python",
   "name": "python3"
  },
  "language_info": {
   "codemirror_mode": {
    "name": "ipython",
    "version": 3
   },
   "file_extension": ".py",
   "mimetype": "text/x-python",
   "name": "python",
   "nbconvert_exporter": "python",
   "pygments_lexer": "ipython3",
   "version": "3.6.1"
  }
 },
 "nbformat": 4,
 "nbformat_minor": 2
}
