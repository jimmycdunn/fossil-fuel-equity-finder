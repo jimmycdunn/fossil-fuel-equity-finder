{
 "cells": [
  {
   "cell_type": "code",
   "execution_count": 1,
   "metadata": {
    "collapsed": true
   },
   "outputs": [],
   "source": [
    "# numpy and pandas are fundamental data processing libraries for Python\n",
    "import numpy as np\n",
    "import pandas as pd\n",
    "\n",
    "# this line tells the notebook to display all numbers with 2 floating decimal places and commas separating thousands\n",
    "pd.options.display.float_format = '{:,.2f}'.format\n",
    "\n",
    "# matplotlib is a data visualization library for Python\n",
    "import matplotlib.pyplot as plt\n",
    "\n",
    "# these lines tell the notebook to show you the visualizations within the notebook using the \"Seaborn\" style\n",
    "# https://seaborn.pydata.org/\n",
    "%matplotlib inline\n",
    "plt.style.use('seaborn-notebook')\n",
    "plt.rcParams['figure.figsize'] = [12, 6]\n",
    "\n",
    "# this line will let the notebook show you images\n",
    "from IPython.display import Image"
   ]
  },
  {
   "cell_type": "code",
   "execution_count": 2,
   "metadata": {
    "collapsed": true
   },
   "outputs": [],
   "source": [
    "# modify the years in this list to reflect the entirety of your data and run this cell to store the values\n",
    "years = [\"2012\", \"2013\", \"2014\", \"2016\"] # edit this\n",
    "# this cell creates a Benchmark object that will perform the visualizations inline\n",
    "from ffequity.processors.benchmark import Benchmark\n",
    "benchmark = Benchmark(years)"
   ]
  },
  {
   "cell_type": "code",
   "execution_count": null,
   "metadata": {},
   "outputs": [],
   "source": [
    "# run this code cell to begin matching and assessing fossil fuel investments!\n",
    "# i expect this cell to match carbon companies to stock equity and write out those company names\n",
    "%run ./ffequity/ffequity.py"
   ]
  },
  {
   "cell_type": "code",
   "execution_count": 3,
   "metadata": {},
   "outputs": [
    {
     "name": "stdout",
     "output_type": "stream",
     "text": [
      "2012\n",
      "You owned investments in 7 fossil fuel companies:\n",
      "CONSOL Energy, Royal Dutch Shell, ConocoPhillips, Cloud Peak Energy, ENI, SunCoke Energy, Coal India\n",
      "\n",
      "2013\n",
      "You owned investments in 6 fossil fuel companies:\n",
      "CONSOL Energy, Royal Dutch Shell, ConocoPhillips, Foresight Energy, ENI, Coal India\n",
      "\n",
      "2014\n",
      "You owned investments in 7 fossil fuel companies:\n",
      "CONSOL Energy, Royal Dutch Shell, BP, ConocoPhillips, Foresight Energy, ENI, Coal India\n",
      "\n",
      "2016\n",
      "You owned investments in 5 fossil fuel companies:\n",
      "CONSOL Energy, Royal Dutch Shell, BP, Arch Coal, Foresight Energy\n",
      "\n"
     ]
    }
   ],
   "source": [
    "# benchmark will now do the aggregate tables and visualizations on the equity portion of the data\n",
    "data = benchmark.get_equity_tables()\n",
    "benchmark.company_names()"
   ]
  },
  {
   "cell_type": "code",
   "execution_count": 4,
   "metadata": {},
   "outputs": [
    {
     "data": {
      "text/html": [
       "<div>\n",
       "<style>\n",
       "    .dataframe thead tr:only-child th {\n",
       "        text-align: right;\n",
       "    }\n",
       "\n",
       "    .dataframe thead th {\n",
       "        text-align: left;\n",
       "    }\n",
       "\n",
       "    .dataframe tbody tr th {\n",
       "        vertical-align: top;\n",
       "    }\n",
       "</style>\n",
       "<table border=\"1\" class=\"dataframe\">\n",
       "  <thead>\n",
       "    <tr style=\"text-align: right;\">\n",
       "      <th></th>\n",
       "      <th>Fossil Fuel Equity</th>\n",
       "      <th>Total Individual Equity</th>\n",
       "      <th>Coal Equity</th>\n",
       "      <th>Oil Equity</th>\n",
       "      <th>Gas Equity</th>\n",
       "    </tr>\n",
       "    <tr>\n",
       "      <th>Year</th>\n",
       "      <th></th>\n",
       "      <th></th>\n",
       "      <th></th>\n",
       "      <th></th>\n",
       "      <th></th>\n",
       "    </tr>\n",
       "  </thead>\n",
       "  <tbody>\n",
       "    <tr>\n",
       "      <th>2012</th>\n",
       "      <td>74,142,802.00</td>\n",
       "      <td>2,607,380,240.00</td>\n",
       "      <td>27,185,509.00</td>\n",
       "      <td>25,802,252.83</td>\n",
       "      <td>21,155,040.17</td>\n",
       "    </tr>\n",
       "    <tr>\n",
       "      <th>2013</th>\n",
       "      <td>69,930,824.00</td>\n",
       "      <td>2,626,738,693.00</td>\n",
       "      <td>22,034,387.00</td>\n",
       "      <td>26,318,296.83</td>\n",
       "      <td>21,578,140.17</td>\n",
       "    </tr>\n",
       "    <tr>\n",
       "      <th>2014</th>\n",
       "      <td>84,950,971.00</td>\n",
       "      <td>2,667,326,914.00</td>\n",
       "      <td>21,747,938.00</td>\n",
       "      <td>37,923,096.67</td>\n",
       "      <td>25,279,936.33</td>\n",
       "    </tr>\n",
       "    <tr>\n",
       "      <th>2016</th>\n",
       "      <td>64,605,098.00</td>\n",
       "      <td>2,579,529,935.00</td>\n",
       "      <td>20,878,019.00</td>\n",
       "      <td>24,225,371.95</td>\n",
       "      <td>19,501,707.05</td>\n",
       "    </tr>\n",
       "  </tbody>\n",
       "</table>\n",
       "</div>"
      ],
      "text/plain": [
       "      Fossil Fuel Equity  Total Individual Equity   Coal Equity    Oil Equity  \\\n",
       "Year                                                                            \n",
       "2012       74,142,802.00         2,607,380,240.00 27,185,509.00 25,802,252.83   \n",
       "2013       69,930,824.00         2,626,738,693.00 22,034,387.00 26,318,296.83   \n",
       "2014       84,950,971.00         2,667,326,914.00 21,747,938.00 37,923,096.67   \n",
       "2016       64,605,098.00         2,579,529,935.00 20,878,019.00 24,225,371.95   \n",
       "\n",
       "        Gas Equity  \n",
       "Year                \n",
       "2012 21,155,040.17  \n",
       "2013 21,578,140.17  \n",
       "2014 25,279,936.33  \n",
       "2016 19,501,707.05  "
      ]
     },
     "execution_count": 4,
     "metadata": {},
     "output_type": "execute_result"
    }
   ],
   "source": [
    "# benchmark will now show an aggregate equity table, duplicate companies will need to be accounted for \n",
    "#this code cell aggregates equity and reserves by fuel type by year\n",
    "aggregateTable = benchmark.aggregate_equity_table()\n",
    "aggregateTable"
   ]
  },
  {
   "cell_type": "code",
   "execution_count": 5,
   "metadata": {},
   "outputs": [
    {
     "data": {
      "image/png": "[encoded data removed]",
      "text/plain": [
       "<matplotlib.figure.Figure at 0x1e65173c978>"
      ]
     },
     "metadata": {},
     "output_type": "display_data"
    }
   ],
   "source": [
    "# total dollars invested in fossil fuels\n",
    "# run this cell to see the total amount of investments in fossil fuel companies\n",
    "benchmark.plot_fossil_fuel_equity()"
   ]
  },
  {
   "cell_type": "code",
   "execution_count": 6,
   "metadata": {},
   "outputs": [
    {
     "data": {
      "image/png": "[encoded data removed]",
      "text/plain": [
       "<matplotlib.figure.Figure at 0x1e65192dda0>"
      ]
     },
     "metadata": {},
     "output_type": "display_data"
    }
   ],
   "source": [
    "benchmark.plot_fossil_fuel_equity_fuel_types()"
   ]
  },
  {
   "cell_type": "code",
   "execution_count": 7,
   "metadata": {},
   "outputs": [
    {
     "name": "stdout",
     "output_type": "stream",
     "text": [
      "Folders Validated\n",
      "All files validated within assessment\n",
      "All files validated within financial_data\n",
      "Files validated\n",
      "All data validated within assessment\n",
      "All data validated within financial_data\n",
      "Data validated\n",
      "Congratulations, the tool has completed the analysis!\n"
     ]
    },
    {
     "data": {
      "text/plain": [
       "<matplotlib.figure.Figure at 0x1e64faf72e8>"
      ]
     },
     "metadata": {},
     "output_type": "display_data"
    }
   ],
   "source": [
    "# now the user will manually input the market caps\n",
    "# then will run this code cell to do the fair share allocation\n",
    "# i expect this cell to match financial rows to the master df and run the analysis\n",
    "%run ./ffequity/fairshare.py"
   ]
  },
  {
   "cell_type": "code",
   "execution_count": 8,
   "metadata": {},
   "outputs": [
    {
     "data": {
      "text/html": [
       "<div>\n",
       "<style>\n",
       "    .dataframe thead tr:only-child th {\n",
       "        text-align: right;\n",
       "    }\n",
       "\n",
       "    .dataframe thead th {\n",
       "        text-align: left;\n",
       "    }\n",
       "\n",
       "    .dataframe tbody tr th {\n",
       "        vertical-align: top;\n",
       "    }\n",
       "</style>\n",
       "<table border=\"1\" class=\"dataframe\">\n",
       "  <thead>\n",
       "    <tr style=\"text-align: right;\">\n",
       "      <th></th>\n",
       "      <th>Fossil Fuel Equity</th>\n",
       "      <th>Total Individual Equity</th>\n",
       "      <th>Coal Equity</th>\n",
       "      <th>Oil Equity</th>\n",
       "      <th>Gas Equity</th>\n",
       "      <th>Coal Reserves (tCO2)</th>\n",
       "      <th>Oil Reserves (tCO2)</th>\n",
       "      <th>Gas Reserves (tCO2)</th>\n",
       "      <th>Total Reserves (tCO2)</th>\n",
       "    </tr>\n",
       "    <tr>\n",
       "      <th>Year</th>\n",
       "      <th></th>\n",
       "      <th></th>\n",
       "      <th></th>\n",
       "      <th></th>\n",
       "      <th></th>\n",
       "      <th></th>\n",
       "      <th></th>\n",
       "      <th></th>\n",
       "      <th></th>\n",
       "    </tr>\n",
       "  </thead>\n",
       "  <tbody>\n",
       "    <tr>\n",
       "      <th>2012</th>\n",
       "      <td>74,142,802.00</td>\n",
       "      <td>2,607,380,240.00</td>\n",
       "      <td>27,185,509.00</td>\n",
       "      <td>25,802,252.83</td>\n",
       "      <td>21,155,040.17</td>\n",
       "      <td>12,583,695.19</td>\n",
       "      <td>576,474.14</td>\n",
       "      <td>404,355.15</td>\n",
       "      <td>13,564,524.47</td>\n",
       "    </tr>\n",
       "    <tr>\n",
       "      <th>2013</th>\n",
       "      <td>69,930,824.00</td>\n",
       "      <td>2,626,738,693.00</td>\n",
       "      <td>22,034,387.00</td>\n",
       "      <td>26,318,296.83</td>\n",
       "      <td>21,578,140.17</td>\n",
       "      <td>9,040,457.94</td>\n",
       "      <td>588,003.59</td>\n",
       "      <td>412,442.23</td>\n",
       "      <td>10,040,903.77</td>\n",
       "    </tr>\n",
       "    <tr>\n",
       "      <th>2014</th>\n",
       "      <td>84,950,971.00</td>\n",
       "      <td>2,667,326,914.00</td>\n",
       "      <td>21,747,938.00</td>\n",
       "      <td>37,923,096.67</td>\n",
       "      <td>25,279,936.33</td>\n",
       "      <td>7,631,766.58</td>\n",
       "      <td>890,669.62</td>\n",
       "      <td>510,517.16</td>\n",
       "      <td>9,032,953.36</td>\n",
       "    </tr>\n",
       "    <tr>\n",
       "      <th>2016</th>\n",
       "      <td>64,605,098.00</td>\n",
       "      <td>2,579,529,935.00</td>\n",
       "      <td>20,878,019.00</td>\n",
       "      <td>24,225,371.95</td>\n",
       "      <td>19,501,707.05</td>\n",
       "      <td>39,096,221.61</td>\n",
       "      <td>432,548.98</td>\n",
       "      <td>308,775.15</td>\n",
       "      <td>39,837,545.75</td>\n",
       "    </tr>\n",
       "  </tbody>\n",
       "</table>\n",
       "</div>"
      ],
      "text/plain": [
       "      Fossil Fuel Equity  Total Individual Equity   Coal Equity    Oil Equity  \\\n",
       "Year                                                                            \n",
       "2012       74,142,802.00         2,607,380,240.00 27,185,509.00 25,802,252.83   \n",
       "2013       69,930,824.00         2,626,738,693.00 22,034,387.00 26,318,296.83   \n",
       "2014       84,950,971.00         2,667,326,914.00 21,747,938.00 37,923,096.67   \n",
       "2016       64,605,098.00         2,579,529,935.00 20,878,019.00 24,225,371.95   \n",
       "\n",
       "        Gas Equity  Coal Reserves (tCO2)  Oil Reserves (tCO2)  \\\n",
       "Year                                                            \n",
       "2012 21,155,040.17         12,583,695.19           576,474.14   \n",
       "2013 21,578,140.17          9,040,457.94           588,003.59   \n",
       "2014 25,279,936.33          7,631,766.58           890,669.62   \n",
       "2016 19,501,707.05         39,096,221.61           432,548.98   \n",
       "\n",
       "      Gas Reserves (tCO2)  Total Reserves (tCO2)  \n",
       "Year                                              \n",
       "2012           404,355.15          13,564,524.47  \n",
       "2013           412,442.23          10,040,903.77  \n",
       "2014           510,517.16           9,032,953.36  \n",
       "2016           308,775.15          39,837,545.75  "
      ]
     },
     "execution_count": 8,
     "metadata": {},
     "output_type": "execute_result"
    }
   ],
   "source": [
    "# this code cell aggregates equity and reserves by fuel type by year\n",
    "data = benchmark.get_tables()\n",
    "aggregateTable = benchmark.aggregate_table()\n",
    "aggregateTable"
   ]
  },
  {
   "cell_type": "code",
   "execution_count": 9,
   "metadata": {
    "collapsed": true
   },
   "outputs": [],
   "source": [
    "# you may edit these two variables as per the instructions above, or leave them as they are\n",
    "chosen = \"COAL\" # edit this\n",
    "numberOfRows = 5 # edit this"
   ]
  },
  {
   "cell_type": "code",
   "execution_count": 10,
   "metadata": {},
   "outputs": [
    {
     "name": "stdout",
     "output_type": "stream",
     "text": [
      "Top 5 sorted by Coal(tCO2) for 2012\n"
     ]
    },
    {
     "data": {
      "text/html": [
       "<div>\n",
       "<style>\n",
       "    .dataframe thead tr:only-child th {\n",
       "        text-align: right;\n",
       "    }\n",
       "\n",
       "    .dataframe thead th {\n",
       "        text-align: left;\n",
       "    }\n",
       "\n",
       "    .dataframe tbody tr th {\n",
       "        vertical-align: top;\n",
       "    }\n",
       "</style>\n",
       "<table border=\"1\" class=\"dataframe\">\n",
       "  <thead>\n",
       "    <tr style=\"text-align: right;\">\n",
       "      <th></th>\n",
       "      <th>Company(Company)</th>\n",
       "      <th>Coal(tCO2)</th>\n",
       "      <th>Oil(tCO2)</th>\n",
       "      <th>Gas(tCO2)</th>\n",
       "      <th>EndingMarketValue</th>\n",
       "    </tr>\n",
       "  </thead>\n",
       "  <tbody>\n",
       "    <tr>\n",
       "      <th>2</th>\n",
       "      <td>SunCoke Energy</td>\n",
       "      <td>6,573,636.25</td>\n",
       "      <td>0.00</td>\n",
       "      <td>0.00</td>\n",
       "      <td>5,258,909.00</td>\n",
       "    </tr>\n",
       "    <tr>\n",
       "      <th>0</th>\n",
       "      <td>CONSOL Energy</td>\n",
       "      <td>5,383,362.16</td>\n",
       "      <td>0.00</td>\n",
       "      <td>0.00</td>\n",
       "      <td>9,959,220.00</td>\n",
       "    </tr>\n",
       "    <tr>\n",
       "      <th>5</th>\n",
       "      <td>Cloud Peak Energy</td>\n",
       "      <td>457,843.57</td>\n",
       "      <td>0.00</td>\n",
       "      <td>0.00</td>\n",
       "      <td>4,959,972.00</td>\n",
       "    </tr>\n",
       "    <tr>\n",
       "      <th>1</th>\n",
       "      <td>Coal India</td>\n",
       "      <td>168,853.20</td>\n",
       "      <td>0.00</td>\n",
       "      <td>0.00</td>\n",
       "      <td>7,007,408.00</td>\n",
       "    </tr>\n",
       "    <tr>\n",
       "      <th>3</th>\n",
       "      <td>ENI</td>\n",
       "      <td>0.00</td>\n",
       "      <td>50,622.01</td>\n",
       "      <td>50,622.01</td>\n",
       "      <td>3,594,163.00</td>\n",
       "    </tr>\n",
       "  </tbody>\n",
       "</table>\n",
       "</div>"
      ],
      "text/plain": [
       "    Company(Company)   Coal(tCO2)  Oil(tCO2)  Gas(tCO2)  EndingMarketValue\n",
       "2     SunCoke Energy 6,573,636.25       0.00       0.00       5,258,909.00\n",
       "0      CONSOL Energy 5,383,362.16       0.00       0.00       9,959,220.00\n",
       "5  Cloud Peak Energy   457,843.57       0.00       0.00       4,959,972.00\n",
       "1         Coal India   168,853.20       0.00       0.00       7,007,408.00\n",
       "3                ENI         0.00  50,622.01  50,622.01       3,594,163.00"
      ]
     },
     "metadata": {},
     "output_type": "display_data"
    },
    {
     "name": "stdout",
     "output_type": "stream",
     "text": [
      "Top 5 sorted by Coal(tCO2) for 2013\n"
     ]
    },
    {
     "data": {
      "text/html": [
       "<div>\n",
       "<style>\n",
       "    .dataframe thead tr:only-child th {\n",
       "        text-align: right;\n",
       "    }\n",
       "\n",
       "    .dataframe thead th {\n",
       "        text-align: left;\n",
       "    }\n",
       "\n",
       "    .dataframe tbody tr th {\n",
       "        vertical-align: top;\n",
       "    }\n",
       "</style>\n",
       "<table border=\"1\" class=\"dataframe\">\n",
       "  <thead>\n",
       "    <tr style=\"text-align: right;\">\n",
       "      <th></th>\n",
       "      <th>Company(Company)</th>\n",
       "      <th>Coal(tCO2)</th>\n",
       "      <th>Oil(tCO2)</th>\n",
       "      <th>Gas(tCO2)</th>\n",
       "      <th>EndingMarketValue</th>\n",
       "    </tr>\n",
       "  </thead>\n",
       "  <tbody>\n",
       "    <tr>\n",
       "      <th>2</th>\n",
       "      <td>Foresight Energy</td>\n",
       "      <td>4,728,427.00</td>\n",
       "      <td>0.00</td>\n",
       "      <td>0.00</td>\n",
       "      <td>4,728,427.00</td>\n",
       "    </tr>\n",
       "    <tr>\n",
       "      <th>0</th>\n",
       "      <td>CONSOL Energy</td>\n",
       "      <td>4,118,271.89</td>\n",
       "      <td>0.00</td>\n",
       "      <td>0.00</td>\n",
       "      <td>10,158,404.00</td>\n",
       "    </tr>\n",
       "    <tr>\n",
       "      <th>1</th>\n",
       "      <td>Coal India</td>\n",
       "      <td>193,759.05</td>\n",
       "      <td>0.00</td>\n",
       "      <td>0.00</td>\n",
       "      <td>7,147,556.00</td>\n",
       "    </tr>\n",
       "    <tr>\n",
       "      <th>3</th>\n",
       "      <td>ENI</td>\n",
       "      <td>0.00</td>\n",
       "      <td>51,634.45</td>\n",
       "      <td>51,634.45</td>\n",
       "      <td>3,666,046.00</td>\n",
       "    </tr>\n",
       "    <tr>\n",
       "      <th>4</th>\n",
       "      <td>ConocoPhillips</td>\n",
       "      <td>0.00</td>\n",
       "      <td>351,122.72</td>\n",
       "      <td>175,561.36</td>\n",
       "      <td>14,220,470.00</td>\n",
       "    </tr>\n",
       "  </tbody>\n",
       "</table>\n",
       "</div>"
      ],
      "text/plain": [
       "   Company(Company)   Coal(tCO2)  Oil(tCO2)  Gas(tCO2)  EndingMarketValue\n",
       "2  Foresight Energy 4,728,427.00       0.00       0.00       4,728,427.00\n",
       "0     CONSOL Energy 4,118,271.89       0.00       0.00      10,158,404.00\n",
       "1        Coal India   193,759.05       0.00       0.00       7,147,556.00\n",
       "3               ENI         0.00  51,634.45  51,634.45       3,666,046.00\n",
       "4    ConocoPhillips         0.00 351,122.72 175,561.36      14,220,470.00"
      ]
     },
     "metadata": {},
     "output_type": "display_data"
    },
    {
     "name": "stdout",
     "output_type": "stream",
     "text": [
      "Top 5 sorted by Coal(tCO2) for 2014\n"
     ]
    },
    {
     "data": {
      "text/html": [
       "<div>\n",
       "<style>\n",
       "    .dataframe thead tr:only-child th {\n",
       "        text-align: right;\n",
       "    }\n",
       "\n",
       "    .dataframe thead th {\n",
       "        text-align: left;\n",
       "    }\n",
       "\n",
       "    .dataframe tbody tr th {\n",
       "        vertical-align: top;\n",
       "    }\n",
       "</style>\n",
       "<table border=\"1\" class=\"dataframe\">\n",
       "  <thead>\n",
       "    <tr style=\"text-align: right;\">\n",
       "      <th></th>\n",
       "      <th>Company(Company)</th>\n",
       "      <th>Coal(tCO2)</th>\n",
       "      <th>Oil(tCO2)</th>\n",
       "      <th>Gas(tCO2)</th>\n",
       "      <th>EndingMarketValue</th>\n",
       "    </tr>\n",
       "  </thead>\n",
       "  <tbody>\n",
       "    <tr>\n",
       "      <th>2</th>\n",
       "      <td>Foresight Energy</td>\n",
       "      <td>4,666,957.00</td>\n",
       "      <td>0.00</td>\n",
       "      <td>0.00</td>\n",
       "      <td>4,666,957.00</td>\n",
       "    </tr>\n",
       "    <tr>\n",
       "      <th>0</th>\n",
       "      <td>CONSOL Energy</td>\n",
       "      <td>2,709,822.70</td>\n",
       "      <td>0.00</td>\n",
       "      <td>0.00</td>\n",
       "      <td>10,026,344.00</td>\n",
       "    </tr>\n",
       "    <tr>\n",
       "      <th>1</th>\n",
       "      <td>Coal India</td>\n",
       "      <td>254,986.88</td>\n",
       "      <td>0.00</td>\n",
       "      <td>0.00</td>\n",
       "      <td>7,054,637.00</td>\n",
       "    </tr>\n",
       "    <tr>\n",
       "      <th>3</th>\n",
       "      <td>BP</td>\n",
       "      <td>0.00</td>\n",
       "      <td>310,310.10</td>\n",
       "      <td>103,436.70</td>\n",
       "      <td>15,929,252.00</td>\n",
       "    </tr>\n",
       "    <tr>\n",
       "      <th>4</th>\n",
       "      <td>ENI</td>\n",
       "      <td>0.00</td>\n",
       "      <td>50,963.20</td>\n",
       "      <td>50,963.20</td>\n",
       "      <td>3,618,387.00</td>\n",
       "    </tr>\n",
       "  </tbody>\n",
       "</table>\n",
       "</div>"
      ],
      "text/plain": [
       "   Company(Company)   Coal(tCO2)  Oil(tCO2)  Gas(tCO2)  EndingMarketValue\n",
       "2  Foresight Energy 4,666,957.00       0.00       0.00       4,666,957.00\n",
       "0     CONSOL Energy 2,709,822.70       0.00       0.00      10,026,344.00\n",
       "1        Coal India   254,986.88       0.00       0.00       7,054,637.00\n",
       "3                BP         0.00 310,310.10 103,436.70      15,929,252.00\n",
       "4               ENI         0.00  50,963.20  50,963.20       3,618,387.00"
      ]
     },
     "metadata": {},
     "output_type": "display_data"
    },
    {
     "name": "stdout",
     "output_type": "stream",
     "text": [
      "Top 5 sorted by Coal(tCO2) for 2016\n"
     ]
    },
    {
     "data": {
      "text/html": [
       "<div>\n",
       "<style>\n",
       "    .dataframe thead tr:only-child th {\n",
       "        text-align: right;\n",
       "    }\n",
       "\n",
       "    .dataframe thead th {\n",
       "        text-align: left;\n",
       "    }\n",
       "\n",
       "    .dataframe tbody tr th {\n",
       "        vertical-align: top;\n",
       "    }\n",
       "</style>\n",
       "<table border=\"1\" class=\"dataframe\">\n",
       "  <thead>\n",
       "    <tr style=\"text-align: right;\">\n",
       "      <th></th>\n",
       "      <th>Company(Company)</th>\n",
       "      <th>Coal(tCO2)</th>\n",
       "      <th>Oil(tCO2)</th>\n",
       "      <th>Gas(tCO2)</th>\n",
       "      <th>EndingMarketValue</th>\n",
       "    </tr>\n",
       "  </thead>\n",
       "  <tbody>\n",
       "    <tr>\n",
       "      <th>1</th>\n",
       "      <td>Arch Coal</td>\n",
       "      <td>35,555,367.75</td>\n",
       "      <td>0.00</td>\n",
       "      <td>0.00</td>\n",
       "      <td>6,772,451.00</td>\n",
       "    </tr>\n",
       "    <tr>\n",
       "      <th>2</th>\n",
       "      <td>Foresight Energy</td>\n",
       "      <td>2,240,139.00</td>\n",
       "      <td>0.00</td>\n",
       "      <td>0.00</td>\n",
       "      <td>4,480,278.00</td>\n",
       "    </tr>\n",
       "    <tr>\n",
       "      <th>0</th>\n",
       "      <td>CONSOL Energy</td>\n",
       "      <td>1,300,714.86</td>\n",
       "      <td>0.00</td>\n",
       "      <td>0.00</td>\n",
       "      <td>9,625,290.00</td>\n",
       "    </tr>\n",
       "    <tr>\n",
       "      <th>3</th>\n",
       "      <td>BP</td>\n",
       "      <td>0.00</td>\n",
       "      <td>248,248.07</td>\n",
       "      <td>89,369.30</td>\n",
       "      <td>15,292,081.00</td>\n",
       "    </tr>\n",
       "    <tr>\n",
       "      <th>4</th>\n",
       "      <td>Royal Dutch Shell</td>\n",
       "      <td>0.00</td>\n",
       "      <td>184,300.91</td>\n",
       "      <td>219,405.85</td>\n",
       "      <td>28,434,998.00</td>\n",
       "    </tr>\n",
       "  </tbody>\n",
       "</table>\n",
       "</div>"
      ],
      "text/plain": [
       "    Company(Company)    Coal(tCO2)  Oil(tCO2)  Gas(tCO2)  EndingMarketValue\n",
       "1          Arch Coal 35,555,367.75       0.00       0.00       6,772,451.00\n",
       "2   Foresight Energy  2,240,139.00       0.00       0.00       4,480,278.00\n",
       "0      CONSOL Energy  1,300,714.86       0.00       0.00       9,625,290.00\n",
       "3                 BP          0.00 248,248.07  89,369.30      15,292,081.00\n",
       "4  Royal Dutch Shell          0.00 184,300.91 219,405.85      28,434,998.00"
      ]
     },
     "metadata": {},
     "output_type": "display_data"
    }
   ],
   "source": [
    "# run this code cell to examine investments at a company leve\n",
    "benchmark.show_top(rows=numberOfRows, sort=chosen)"
   ]
  },
  {
   "cell_type": "code",
   "execution_count": 11,
   "metadata": {},
   "outputs": [
    {
     "data": {
      "image/png": "[encoded data removed]",
      "text/plain": [
       "<matplotlib.figure.Figure at 0x1e6519d4f60>"
      ]
     },
     "metadata": {},
     "output_type": "display_data"
    }
   ],
   "source": [
    "benchmark.plot_reserves()"
   ]
  },
  {
   "cell_type": "code",
   "execution_count": 12,
   "metadata": {},
   "outputs": [
    {
     "data": {
      "image/png": "[encoded data removed]",
      "text/plain": [
       "<matplotlib.figure.Figure at 0x1e6518fccc0>"
      ]
     },
     "metadata": {},
     "output_type": "display_data"
    }
   ],
   "source": [
    "benchmark.plot_reserves_fuel_type()"
   ]
  },
  {
   "cell_type": "code",
   "execution_count": 13,
   "metadata": {
    "collapsed": true
   },
   "outputs": [],
   "source": [
    "# modify focusYear to select one of the years of data and run this cell\n",
    "focusYear = \"2012\" # edit this"
   ]
  },
  {
   "cell_type": "code",
   "execution_count": 14,
   "metadata": {},
   "outputs": [
    {
     "data": {
      "text/html": [
       "\n",
       "\n",
       "<style>\n",
       "\n",
       "</style>\n",
       "\n",
       "<div id=\"fig_el485620887281948567460094065\"></div>\n",
       "<script>\n",
       "function mpld3_load_lib(url, callback){\n",
       "  var s = document.createElement('script');\n",
       "  s.src = url;\n",
       "  s.async = true;\n",
       "  s.onreadystatechange = s.onload = callback;\n",
       "  s.onerror = function(){console.warn(\"failed to load library \" + url);};\n",
       "  document.getElementsByTagName(\"head\")[0].appendChild(s);\n",
       "}\n",
       "\n",
       "if(typeof(mpld3) !== \"undefined\" && mpld3._mpld3IsLoaded){\n",
       "   // already loaded: just create the figure\n",
       "   !function(mpld3){\n",
       "       \n",
       "       mpld3.draw_figure(\"fig_el485620887281948567460094065\", {\"width\": 864.0, \"height\": 432.0, \"axes\": [{\"bbox\": [0.125, 0.125, 0.775, 0.755], \"xlim\": [2302796.544250299, 30712858.455749698], \"ylim\": [-222375.59472655779, 6897255.872895572], \"xdomain\": [2302796.544250299, 30712858.455749698], \"ydomain\": [-222375.59472655779, 6897255.872895572], \"xscale\": \"linear\", \"yscale\": \"linear\", \"axes\": [{\"position\": \"bottom\", \"nticks\": 8, \"tickvalues\": null, \"tickformat\": null, \"scale\": \"linear\", \"fontsize\": 10.0, \"grid\": {\"gridOn\": false}, \"visible\": true}, {\"position\": \"left\", \"nticks\": 9, \"tickvalues\": null, \"tickformat\": null, \"scale\": \"linear\", \"fontsize\": 10.0, \"grid\": {\"gridOn\": false}, \"visible\": true}], \"axesbg\": \"#FFFFFF\", \"axesbgalpha\": null, \"zoomable\": true, \"id\": \"el48562088728566864\", \"lines\": [], \"paths\": [], \"markers\": [], \"texts\": [{\"text\": \"Equity Invested (USD)\", \"position\": [0.49999999999999994, -0.07511650723571252], \"coordinates\": \"axes\", \"h_anchor\": \"middle\", \"v_baseline\": \"hanging\", \"rotation\": -0.0, \"fontsize\": 11.0, \"color\": \"#000000\", \"alpha\": 1, \"zorder\": 3, \"id\": \"el48562088728623032\"}, {\"text\": \"Carbon Reserves (tCO2)\", \"position\": [-0.09763291517323776, 0.5], \"coordinates\": \"axes\", \"h_anchor\": \"middle\", \"v_baseline\": \"auto\", \"rotation\": -90.0, \"fontsize\": 11.0, \"color\": \"#000000\", \"alpha\": 1, \"zorder\": 3, \"id\": \"el48562088731958072\"}, {\"text\": \"Invested Fossil Fuel Companies in 2012\", \"position\": [0.49999999999999994, 1.0183958793230317], \"coordinates\": \"axes\", \"h_anchor\": \"middle\", \"v_baseline\": \"auto\", \"rotation\": -0.0, \"fontsize\": 12.0, \"color\": \"#000000\", \"alpha\": 1, \"zorder\": 3, \"id\": \"el48562088732152160\"}], \"collections\": [{\"offsets\": \"data01\", \"xindex\": 0, \"yindex\": 1, \"paths\": [[[[0.0, -0.5], [0.13260155, -0.5], [0.25978993539242673, -0.44731684579412084], [0.3535533905932738, -0.3535533905932738], [0.44731684579412084, -0.25978993539242673], [0.5, -0.13260155], [0.5, 0.0], [0.5, 0.13260155], [0.44731684579412084, 0.25978993539242673], [0.3535533905932738, 0.3535533905932738], [0.25978993539242673, 0.44731684579412084], [0.13260155, 0.5], [0.0, 0.5], [-0.13260155, 0.5], [-0.25978993539242673, 0.44731684579412084], [-0.3535533905932738, 0.3535533905932738], [-0.44731684579412084, 0.25978993539242673], [-0.5, 0.13260155], [-0.5, 0.0], [-0.5, -0.13260155], [-0.44731684579412084, -0.25978993539242673], [-0.3535533905932738, -0.3535533905932738], [-0.25978993539242673, -0.44731684579412084], [-0.13260155, -0.5], [0.0, -0.5]], [\"M\", \"C\", \"C\", \"C\", \"C\", \"C\", \"C\", \"C\", \"C\", \"Z\"]]], \"pathtransforms\": [[7.0, 0.0, 0.0, 7.0, 0.0, 0.0]], \"alphas\": [null], \"edgecolors\": [\"#1F77B4\"], \"facecolors\": [\"#1F77B4\"], \"edgewidths\": [0.3], \"offsetcoordinates\": \"data\", \"pathcoordinates\": \"display\", \"zorder\": 1, \"id\": \"el48562088732326880\"}], \"images\": [], \"sharex\": [], \"sharey\": []}], \"data\": {\"data01\": [[9959220.0, 5383362.162162161], [7007408.0, 168853.2048192771], [5258909.0, 6573636.25], [3594163.0, 101244.02816901408], [13941638.0, 516356.9629629629], [4959972.0, 457843.5692307693], [29421492.0, 363228.29629629623]]}, \"id\": \"el48562088728194856\", \"plugins\": [{\"type\": \"reset\"}, {\"type\": \"zoom\", \"button\": true, \"enabled\": false}, {\"type\": \"boxzoom\", \"button\": true, \"enabled\": false}, {\"type\": \"tooltip\", \"id\": \"el48562088732326880\", \"labels\": [\"CONSOL Energy\", \"Coal India\", \"SunCoke Energy\", \"ENI\", \"ConocoPhillips\", \"Cloud Peak Energy\", \"Royal Dutch Shell\"], \"hoffset\": 0, \"voffset\": 10, \"location\": \"mouse\"}]});\n",
       "   }(mpld3);\n",
       "}else if(typeof define === \"function\" && define.amd){\n",
       "   // require.js is available: use it to load d3/mpld3\n",
       "   require.config({paths: {d3: \"https://mpld3.github.io/js/d3.v3.min\"}});\n",
       "   require([\"d3\"], function(d3){\n",
       "      window.d3 = d3;\n",
       "      mpld3_load_lib(\"https://mpld3.github.io/js/mpld3.v0.3.js\", function(){\n",
       "         \n",
       "         mpld3.draw_figure(\"fig_el485620887281948567460094065\", {\"width\": 864.0, \"height\": 432.0, \"axes\": [{\"bbox\": [0.125, 0.125, 0.775, 0.755], \"xlim\": [2302796.544250299, 30712858.455749698], \"ylim\": [-222375.59472655779, 6897255.872895572], \"xdomain\": [2302796.544250299, 30712858.455749698], \"ydomain\": [-222375.59472655779, 6897255.872895572], \"xscale\": \"linear\", \"yscale\": \"linear\", \"axes\": [{\"position\": \"bottom\", \"nticks\": 8, \"tickvalues\": null, \"tickformat\": null, \"scale\": \"linear\", \"fontsize\": 10.0, \"grid\": {\"gridOn\": false}, \"visible\": true}, {\"position\": \"left\", \"nticks\": 9, \"tickvalues\": null, \"tickformat\": null, \"scale\": \"linear\", \"fontsize\": 10.0, \"grid\": {\"gridOn\": false}, \"visible\": true}], \"axesbg\": \"#FFFFFF\", \"axesbgalpha\": null, \"zoomable\": true, \"id\": \"el48562088728566864\", \"lines\": [], \"paths\": [], \"markers\": [], \"texts\": [{\"text\": \"Equity Invested (USD)\", \"position\": [0.49999999999999994, -0.07511650723571252], \"coordinates\": \"axes\", \"h_anchor\": \"middle\", \"v_baseline\": \"hanging\", \"rotation\": -0.0, \"fontsize\": 11.0, \"color\": \"#000000\", \"alpha\": 1, \"zorder\": 3, \"id\": \"el48562088728623032\"}, {\"text\": \"Carbon Reserves (tCO2)\", \"position\": [-0.09763291517323776, 0.5], \"coordinates\": \"axes\", \"h_anchor\": \"middle\", \"v_baseline\": \"auto\", \"rotation\": -90.0, \"fontsize\": 11.0, \"color\": \"#000000\", \"alpha\": 1, \"zorder\": 3, \"id\": \"el48562088731958072\"}, {\"text\": \"Invested Fossil Fuel Companies in 2012\", \"position\": [0.49999999999999994, 1.0183958793230317], \"coordinates\": \"axes\", \"h_anchor\": \"middle\", \"v_baseline\": \"auto\", \"rotation\": -0.0, \"fontsize\": 12.0, \"color\": \"#000000\", \"alpha\": 1, \"zorder\": 3, \"id\": \"el48562088732152160\"}], \"collections\": [{\"offsets\": \"data01\", \"xindex\": 0, \"yindex\": 1, \"paths\": [[[[0.0, -0.5], [0.13260155, -0.5], [0.25978993539242673, -0.44731684579412084], [0.3535533905932738, -0.3535533905932738], [0.44731684579412084, -0.25978993539242673], [0.5, -0.13260155], [0.5, 0.0], [0.5, 0.13260155], [0.44731684579412084, 0.25978993539242673], [0.3535533905932738, 0.3535533905932738], [0.25978993539242673, 0.44731684579412084], [0.13260155, 0.5], [0.0, 0.5], [-0.13260155, 0.5], [-0.25978993539242673, 0.44731684579412084], [-0.3535533905932738, 0.3535533905932738], [-0.44731684579412084, 0.25978993539242673], [-0.5, 0.13260155], [-0.5, 0.0], [-0.5, -0.13260155], [-0.44731684579412084, -0.25978993539242673], [-0.3535533905932738, -0.3535533905932738], [-0.25978993539242673, -0.44731684579412084], [-0.13260155, -0.5], [0.0, -0.5]], [\"M\", \"C\", \"C\", \"C\", \"C\", \"C\", \"C\", \"C\", \"C\", \"Z\"]]], \"pathtransforms\": [[7.0, 0.0, 0.0, 7.0, 0.0, 0.0]], \"alphas\": [null], \"edgecolors\": [\"#1F77B4\"], \"facecolors\": [\"#1F77B4\"], \"edgewidths\": [0.3], \"offsetcoordinates\": \"data\", \"pathcoordinates\": \"display\", \"zorder\": 1, \"id\": \"el48562088732326880\"}], \"images\": [], \"sharex\": [], \"sharey\": []}], \"data\": {\"data01\": [[9959220.0, 5383362.162162161], [7007408.0, 168853.2048192771], [5258909.0, 6573636.25], [3594163.0, 101244.02816901408], [13941638.0, 516356.9629629629], [4959972.0, 457843.5692307693], [29421492.0, 363228.29629629623]]}, \"id\": \"el48562088728194856\", \"plugins\": [{\"type\": \"reset\"}, {\"type\": \"zoom\", \"button\": true, \"enabled\": false}, {\"type\": \"boxzoom\", \"button\": true, \"enabled\": false}, {\"type\": \"tooltip\", \"id\": \"el48562088732326880\", \"labels\": [\"CONSOL Energy\", \"Coal India\", \"SunCoke Energy\", \"ENI\", \"ConocoPhillips\", \"Cloud Peak Energy\", \"Royal Dutch Shell\"], \"hoffset\": 0, \"voffset\": 10, \"location\": \"mouse\"}]});\n",
       "      });\n",
       "    });\n",
       "}else{\n",
       "    // require.js not available: dynamically load d3 & mpld3\n",
       "    mpld3_load_lib(\"https://mpld3.github.io/js/d3.v3.min.js\", function(){\n",
       "         mpld3_load_lib(\"https://mpld3.github.io/js/mpld3.v0.3.js\", function(){\n",
       "                 \n",
       "                 mpld3.draw_figure(\"fig_el485620887281948567460094065\", {\"width\": 864.0, \"height\": 432.0, \"axes\": [{\"bbox\": [0.125, 0.125, 0.775, 0.755], \"xlim\": [2302796.544250299, 30712858.455749698], \"ylim\": [-222375.59472655779, 6897255.872895572], \"xdomain\": [2302796.544250299, 30712858.455749698], \"ydomain\": [-222375.59472655779, 6897255.872895572], \"xscale\": \"linear\", \"yscale\": \"linear\", \"axes\": [{\"position\": \"bottom\", \"nticks\": 8, \"tickvalues\": null, \"tickformat\": null, \"scale\": \"linear\", \"fontsize\": 10.0, \"grid\": {\"gridOn\": false}, \"visible\": true}, {\"position\": \"left\", \"nticks\": 9, \"tickvalues\": null, \"tickformat\": null, \"scale\": \"linear\", \"fontsize\": 10.0, \"grid\": {\"gridOn\": false}, \"visible\": true}], \"axesbg\": \"#FFFFFF\", \"axesbgalpha\": null, \"zoomable\": true, \"id\": \"el48562088728566864\", \"lines\": [], \"paths\": [], \"markers\": [], \"texts\": [{\"text\": \"Equity Invested (USD)\", \"position\": [0.49999999999999994, -0.07511650723571252], \"coordinates\": \"axes\", \"h_anchor\": \"middle\", \"v_baseline\": \"hanging\", \"rotation\": -0.0, \"fontsize\": 11.0, \"color\": \"#000000\", \"alpha\": 1, \"zorder\": 3, \"id\": \"el48562088728623032\"}, {\"text\": \"Carbon Reserves (tCO2)\", \"position\": [-0.09763291517323776, 0.5], \"coordinates\": \"axes\", \"h_anchor\": \"middle\", \"v_baseline\": \"auto\", \"rotation\": -90.0, \"fontsize\": 11.0, \"color\": \"#000000\", \"alpha\": 1, \"zorder\": 3, \"id\": \"el48562088731958072\"}, {\"text\": \"Invested Fossil Fuel Companies in 2012\", \"position\": [0.49999999999999994, 1.0183958793230317], \"coordinates\": \"axes\", \"h_anchor\": \"middle\", \"v_baseline\": \"auto\", \"rotation\": -0.0, \"fontsize\": 12.0, \"color\": \"#000000\", \"alpha\": 1, \"zorder\": 3, \"id\": \"el48562088732152160\"}], \"collections\": [{\"offsets\": \"data01\", \"xindex\": 0, \"yindex\": 1, \"paths\": [[[[0.0, -0.5], [0.13260155, -0.5], [0.25978993539242673, -0.44731684579412084], [0.3535533905932738, -0.3535533905932738], [0.44731684579412084, -0.25978993539242673], [0.5, -0.13260155], [0.5, 0.0], [0.5, 0.13260155], [0.44731684579412084, 0.25978993539242673], [0.3535533905932738, 0.3535533905932738], [0.25978993539242673, 0.44731684579412084], [0.13260155, 0.5], [0.0, 0.5], [-0.13260155, 0.5], [-0.25978993539242673, 0.44731684579412084], [-0.3535533905932738, 0.3535533905932738], [-0.44731684579412084, 0.25978993539242673], [-0.5, 0.13260155], [-0.5, 0.0], [-0.5, -0.13260155], [-0.44731684579412084, -0.25978993539242673], [-0.3535533905932738, -0.3535533905932738], [-0.25978993539242673, -0.44731684579412084], [-0.13260155, -0.5], [0.0, -0.5]], [\"M\", \"C\", \"C\", \"C\", \"C\", \"C\", \"C\", \"C\", \"C\", \"Z\"]]], \"pathtransforms\": [[7.0, 0.0, 0.0, 7.0, 0.0, 0.0]], \"alphas\": [null], \"edgecolors\": [\"#1F77B4\"], \"facecolors\": [\"#1F77B4\"], \"edgewidths\": [0.3], \"offsetcoordinates\": \"data\", \"pathcoordinates\": \"display\", \"zorder\": 1, \"id\": \"el48562088732326880\"}], \"images\": [], \"sharex\": [], \"sharey\": []}], \"data\": {\"data01\": [[9959220.0, 5383362.162162161], [7007408.0, 168853.2048192771], [5258909.0, 6573636.25], [3594163.0, 101244.02816901408], [13941638.0, 516356.9629629629], [4959972.0, 457843.5692307693], [29421492.0, 363228.29629629623]]}, \"id\": \"el48562088728194856\", \"plugins\": [{\"type\": \"reset\"}, {\"type\": \"zoom\", \"button\": true, \"enabled\": false}, {\"type\": \"boxzoom\", \"button\": true, \"enabled\": false}, {\"type\": \"tooltip\", \"id\": \"el48562088732326880\", \"labels\": [\"CONSOL Energy\", \"Coal India\", \"SunCoke Energy\", \"ENI\", \"ConocoPhillips\", \"Cloud Peak Energy\", \"Royal Dutch Shell\"], \"hoffset\": 0, \"voffset\": 10, \"location\": \"mouse\"}]});\n",
       "            })\n",
       "         });\n",
       "}\n",
       "</script>"
      ],
      "text/plain": [
       "<IPython.core.display.HTML object>"
      ]
     },
     "execution_count": 14,
     "metadata": {},
     "output_type": "execute_result"
    }
   ],
   "source": [
    "# run this code cell to generate an interactive scatterplot\n",
    "benchmark.scatterplot(focusYear)"
   ]
  },
  {
   "cell_type": "code",
   "execution_count": null,
   "metadata": {
    "collapsed": true
   },
   "outputs": [],
   "source": []
  }
 ],
 "metadata": {
  "kernelspec": {
   "display_name": "Python 3",
   "language": "python",
   "name": "python3"
  },
  "language_info": {
   "codemirror_mode": {
    "name": "ipython",
    "version": 3
   },
   "file_extension": ".py",
   "mimetype": "text/x-python",
   "name": "python",
   "nbconvert_exporter": "python",
   "pygments_lexer": "ipython3",
   "version": "3.6.1"
  }
 },
 "nbformat": 4,
 "nbformat_minor": 2
}
